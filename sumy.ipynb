{
 "cells": [
  {
   "cell_type": "code",
   "execution_count": 1,
   "metadata": {},
   "outputs": [
    {
     "name": "stdout",
     "output_type": "stream",
     "text": [
      "Defaulting to user installation because normal site-packages is not writeable\n",
      "Requirement already satisfied: sumy in c:\\users\\user\\appdata\\roaming\\python\\python311\\site-packages (0.11.0)\n",
      "Requirement already satisfied: docopt<0.7,>=0.6.1 in c:\\users\\user\\appdata\\roaming\\python\\python311\\site-packages (from sumy) (0.6.2)\n",
      "Requirement already satisfied: breadability>=0.1.20 in c:\\users\\user\\appdata\\roaming\\python\\python311\\site-packages (from sumy) (0.1.20)\n",
      "Requirement already satisfied: requests>=2.7.0 in c:\\users\\user\\appdata\\roaming\\python\\python311\\site-packages (from sumy) (2.28.2)\n",
      "Requirement already satisfied: pycountry>=18.2.23 in c:\\users\\user\\appdata\\roaming\\python\\python311\\site-packages (from sumy) (22.3.5)\n",
      "Requirement already satisfied: nltk>=3.0.2 in c:\\users\\user\\appdata\\roaming\\python\\python311\\site-packages (from sumy) (3.8.1)\n",
      "Requirement already satisfied: chardet in c:\\users\\user\\appdata\\roaming\\python\\python311\\site-packages (from breadability>=0.1.20->sumy) (5.1.0)\n",
      "Requirement already satisfied: lxml>=2.0 in c:\\users\\user\\appdata\\roaming\\python\\python311\\site-packages (from breadability>=0.1.20->sumy) (4.9.2)\n",
      "Requirement already satisfied: click in c:\\users\\user\\appdata\\roaming\\python\\python311\\site-packages (from nltk>=3.0.2->sumy) (8.1.3)\n",
      "Requirement already satisfied: joblib in c:\\users\\user\\appdata\\roaming\\python\\python311\\site-packages (from nltk>=3.0.2->sumy) (1.2.0)\n",
      "Requirement already satisfied: regex>=2021.8.3 in c:\\users\\user\\appdata\\roaming\\python\\python311\\site-packages (from nltk>=3.0.2->sumy) (2022.10.31)\n",
      "Requirement already satisfied: tqdm in c:\\users\\user\\appdata\\roaming\\python\\python311\\site-packages (from nltk>=3.0.2->sumy) (4.64.1)\n",
      "Requirement already satisfied: setuptools in c:\\program files\\python 3.11.0\\lib\\site-packages (from pycountry>=18.2.23->sumy) (65.5.0)\n",
      "Requirement already satisfied: charset-normalizer<4,>=2 in c:\\users\\user\\appdata\\roaming\\python\\python311\\site-packages (from requests>=2.7.0->sumy) (2.1.1)\n",
      "Requirement already satisfied: idna<4,>=2.5 in c:\\users\\user\\appdata\\roaming\\python\\python311\\site-packages (from requests>=2.7.0->sumy) (3.4)\n",
      "Requirement already satisfied: urllib3<1.27,>=1.21.1 in c:\\users\\user\\appdata\\roaming\\python\\python311\\site-packages (from requests>=2.7.0->sumy) (1.26.14)\n",
      "Requirement already satisfied: certifi>=2017.4.17 in c:\\users\\user\\appdata\\roaming\\python\\python311\\site-packages (from requests>=2.7.0->sumy) (2022.12.7)\n",
      "Requirement already satisfied: colorama in c:\\users\\user\\appdata\\roaming\\python\\python311\\site-packages (from click->nltk>=3.0.2->sumy) (0.4.6)\n",
      "Note: you may need to restart the kernel to use updated packages.\n"
     ]
    }
   ],
   "source": [
    "pip install sumy"
   ]
  },
  {
   "cell_type": "code",
   "execution_count": 2,
   "metadata": {},
   "outputs": [],
   "source": [
    "# Load Packages\n",
    "import sumy\n"
   ]
  },
  {
   "cell_type": "code",
   "execution_count": 3,
   "metadata": {},
   "outputs": [],
   "source": [
    "from sumy.parsers.plaintext import PlaintextParser\n",
    "from sumy.nlp.tokenizers import Tokenizer\n",
    "from sumy.summarizers.lex_rank import LexRankSummarizer "
   ]
  },
  {
   "cell_type": "code",
   "execution_count": 4,
   "metadata": {},
   "outputs": [],
   "source": [
    "#document1=\"\"\"Hey folks here Rachana Ranadi here and I'm very happy to announce the launch of a new course which is Mastering Money Management. In this course I've talked about seven steps to master your money I'm sure few of you might have this question in your mind that is this course different from the original course of personal financial management? And the answer is yes the original course was barely around two or 15 minutes but this course on mastering money management is almost 5 hours 45 minutes so it's more than two times of the previous course duration but is that it? No, it is more personal, it's more elaborate, it has more examples and it is more fun so it's obviously a lot more and more. Not only this. In this course, we have talked about special taxation hacks wherein I have told certain tips and tricks. Of course legal tips and tricks where you can save almost RS5000 in tax in the very first year. And over a period of years you will be able to save taxation I mean you will be able to save lacks of rupees in taxation not only that we have discussed about how to plan your will what are certain points to be kept in mind while you draft your will? Is it necessary to draft a will or not? And a lot more points. Not only this, we have discussed about how to plan for your retirement fund of one crore rupees, how to plan for your first house, and how to plan for your first car. I thoroughly enjoyed shooting this course, and I'm sure that while you watch this course, you will definitely feel that, oh, my God, I learned a lot. And that, too, is absolute fun. So just to celebrate the Republic Day I'm happy to tell you that we are launching this course at this introductory offer price so don't forget to check out our website rachanaranadaycom and enroll for this course to master your money and to master your life. So here's a special sneak peek of this course hey folks, c A rachana Ranai here and I welcome you all to a very important course which is about master your money management. I feel this is a course which should have been discussed for everyone at the school level because I feel that we were taught about a lot of concepts at school which at that time we felt very important just to secure marks but they really did not have a great impact in our daily routines. Just to give you a simple example, I remember learning by heart a lot about French Revolution. But from that date till today, I have never, ever used anything related to French Revolution in my day to day life. But if I were taught about the power of compounding, about tax planning, about money management, about mutual funds, stock market and few more, at least at a very, very basic level, I'm sure I, and many of us, would have been better money managers by now. So this is my outlook. I have few team members who are sitting right here. It has been made mandatory for them to sit here and to attend the session. Otherwise it would have had an impact on their salary payments. So now they are here very much attentive let me ask them as well. What is their take on money management? So what do you feel is money management important? Yes. What have you taught about that at school? No. And do you feel that it should have been taught at school level? Yes. Now do you feel that this is the problem about just my city, Pune? No. Is it only about Maharashtra? No. Is it only about India? For that? I had been to Dubai recently and I thought of asking this same question to people from different countries. I was lucky to deliver a session where students from more than 20 countries attended my session. And in the small clip, you can see people from almost six or seven different countries. And let us hear their views on where they taught about money management skills at school or not. Which country are you from? The state? I'm originally from Palestine, but I live in the UAE. Okay. How about you? Okay. Were you talking about finances in schools? Not that much. Not much? No. What was that? One by one by one two. One by one two. That's it. Okay. Not at all? No. This is the collective answer. Do you feel teaching finances at school is very important? Yes. Collective answer. Okay. Who controls the financing investing district? For you? For myself. It's me. Wow. That's okay. It's me. But I'll make a mistake. Okay. Question for all of this is that if you have an insurance, how much times of your income are you charged? I'm not sure. 10% of your income? Actually, I don't invest in insurance. You should watch my channel. So I'm a creator trying to make more money. But I already have an insurance coverage and it was ten times my income at the time. Ten times? I have like three calories. So in case, like, I don't have a job, I have like three calories. I also have life insurance. Okay? Yeah, I also have life insurance. But I took that insurance during pandemic time because I'm so scared of the sun that I wanted to. Well, after having a look at this clip, I hope you understood that it's not only about India that money management is not taught at school. But unfortunately, it's across the globe that this important skill of money management is not taught. But it's never too late. It's a saying in Hindi as well. So I think this is the right time to start acquiring this skill and to learn managing your money in a better way. Now, I want you all to answer this question again. Have a look at this image. And do you know this person? Who is he? Any idea? Sushil Kumar. Sushil Kumar. Sahi Java five kara Shunirupe, I say question. Okay. So this picture is of Sushil Kumar and he had won five crores at KBC. Now, what do you feel today? He might be like a super duper rich person. A five crore is a huge amount, right? But just for you all, this person today is bankrupt. So it's not about only how much you earn. I think equal importance is about how do you save, how do you manage and how do you invest that money. Okay. Is there only one example? I think there are a lot of examples in some films as well. I would want to quote an example from a Marathi film. It's okay even if you have not seen that film. But it's a very amazing film. And the name of the film is Mulshi Patern. This film portrays the story of a farmer who sells off his land, agricultural land. Gets a lot of money as a lump sum money. But unfortunately, he doesn't know what is to be done with such a huge amount of money. What he does is that he weds off his daughters, spends a lot of money there. He buys some luxurious cars to spend whatever money is remaining with him at one point of time. What happens is that he doesn't have even that much money that he can fill up the petrol tanks in that car. So then it has shown that his wife is just using that car to dry clothes and dry utensils and whatnot. So this can be the story of a person who earns a lot but who doesn't know how to manage the money. So I hope everyone has understood the importance of money management as well. Yes. So can I say same weight, same importance to both only earning money? No, it's about earning money as well as managing the money as well. Now that you have understood the importance, the next question is that this course should be seen. By whom do you think only students should do this course? No, homemakers. Homemakers should see this as well. People who are doing business profession? Yes. Salaried people. Anyone and everyone. Yes. Because everyone loves to earn money. Now in this course we are going to understand how to master your money. Well, now that you have understood the importance of this course now let us get started and let us try and understand what are the various steps in your money management skills. The very first step is okay, let me keep this as a suspense and let me give you an example and see whether you are able to get the very first step by yourself or not. Let's take the example of Sonal and Monal. Here are two friends, sonal and Monal. Both have just graduated from college and have started working in a company. Both are earning the same salary of Rs25,000. Both being very good friends decided that come what may we both are going to save Rs10,000 each every single month. Now what they had not decided was where are they going to park these funds? Sonal decided to keep these Rs10,000 in her savings bank account whereas Monal decided to make four parts of these Rs10,000.01. Part of Rs2500 was invested in mutual funds. One in a PPF account, the third in equity shares and the fourth in bonds. At the end of the year, Sonal had earned barely around 4% return as she was just parking the funds in the saving account. Whereas Monell got a return of almost 10% because she had parked her funds in various investment assets. Now what do you think, Sonal? One or Monal? What are your thoughts? Monal, everyone? Monal? Yes, but Monal is where have I given the correct answer? Let me give you a twist in the story. Now there was some contingency and have a look at the faces of Sonal and Monal. Again, both seem to be a little bit worried. And Sonal is a little bit less worried maybe. Because now I'm going to tell you exactly what had happened. There was a contingency because of which both needed Rs25,000 at one shot. Now what do you think? Sonal might have been in a position to get that Rs25,000 just like that quickly. Yes or no? Yes. And what about Monal? She would need some time to withdraw the money. She would need some time to withdraw the money. Why? Because she is parked in different asset classes like equity shares. It will take two trading days. Correct? Correct. CM. Adam is right on her toes. Because she knows that for equity if you were to sell the shares it takes at least two days to get the money in your bank account. It is called as a T plus two settlement. Okay? T means trade. Whenever you did the trade trade of selling the shares and how many days plus two, that is the minimum amount. I mean, that is the number of days basically after which you will get the money. So that was the reason why as far as the liquidity was concerned liquidity means what? When do you get your money? Are you able to convert your investments into cash quickly or not? So for that, Monal was facing a problem. So now do you think that if a contingency were to arise, who is the winner? Is it Sonal or is it Monal? Sonal. But still I have not given my answer. Now I'll tell you one more point to this whole story, okay? Now if I were to ask about Sonal sonal was keeping the entire money in her saving account. Now what do you think? Was it wise enough for her to keep the whole money in the saving account so that she can meet any emergency that she would have faced? Or should there have been a cap on how much amount that should have been parked in the saving account. There should have been a cap to that. That is the very first step in our entire money management journey which is about understanding how much money should you have in your saving account or in a place where you can get your money. Just like that. Okay? So that concept is called as the concept of emergency funds. If you can repeat with me, it is known as emergency funds. So let us take a quick example and understand. How do you calculate the amount of emergency funds? Now, here is an Excel Sheet which can help you to calculate how much emergency funds should you have that you can access at any point in time, right? So you have to just list down all those committed or necessary monthly expenses. What is the word here? Necessary monthly expenses. So basically, you're not going to say, I want these many funds for party. That's a necessary expense. That's not going to happen, right? So what could be the necessary expenses? Possibility number one rent or EMI. Let us put this as zero only because what was the example that we were taking? We were talking about a case where Beet Sonal or Beat Monell both have just graduated. Assume that they are staying with their parents, right? And because they are staying with their parents, they are not going to pay rent to them. They are not also going to pay for the groceries or milk or whatever. So let's see what could be the possible expenses. No EMI insurance premium. Let's take she is paying an insurance premium of RS2000. Electricity bill, gas bill. She's going to push it to her parents. I'm sure about that. Then let us say petrol, diesel expenses, another RS2000, groceries bill, nothing. Internet, phone bill. Let's take Rs1000 and tuition fee. Nothing. Other necessary expenses? Nothing. Okay, quickly tell me, how much is her monthly committed expenditure? $5,000. Sleeping maximum expenditure for her is $5,000. Now, if you see here at the end, you can see emergency funds to be kept in cash or saving account or in an FD is how much? 30,000. So, basic math? 5000. I've given a multiplier of six. Okay. Now why is this? So, as per the basics of money management, six months of your monthly committed expenses should be kept at a place from where you can quickly access that money. Can you quickly access the money if you have kept it as cash in your locker? Yes. In your saving account? Yes. What about an FD? Can you premature the FD and get the money just like that? Yes, of course. Why not? You will be levied some penalty or some penal interest. That is okay. But you'll still be able to quickly access that money, right? So 30,000 should have been kept by Sonal in her savings account. Well, now, I hope you have understood the Excel sheet calculation. And now comes a quick question for you all. Can you recall how much money had Sonal kept in her savings account? If you remember, she was saving Rs10,000 per month and she was saving that for twelve months. Zorg boulke. One lakh 20,000. Perfect. If you speak slowly or in a very low voice, 10% salary gone. Okay. Control. Control. Okay. So one lakh 20,000 was the balance that Sonal had kept in her saving account, right? How much should have been kept by her? 30,000. So how much excess was she keeping in her saving account? That was Rs90,000. Now tell me, what is the problem in having 90,000 extra in your saving account? Is there any problem? Less returns. Less returns. So basically, can I say she lost the opportunity to earn more by parking these funds in different asset classes? Absolutely. Yes. So now again comes the same question. Who won? Did Sonal win? No. Did Monal win? No. None of them won. Because none of them had done my course on mastering money management. Now that you all know, I hope you all will not make the same mistake that Sonal did or Monell did so quickly tell me, what should you all be doing? It's your homework today. By the way, your first step in your money management journey. Number one, you have to calculate what is the amount of monthly emergency funds or monthly committed expenses? Basically, that is what you have to calculate. And how are you going to calculate that you have the Excel Sheet? Now, if you are watching this online, where are you going to find the Excel Sheet? That is where in the courses section itself, you are going to find the Excel Sheet. Okay. You have to download this Excel sheet. After downloading fill up, what are your committed expenses? Multiplier of sixes automatically given in our Excel Sheet formula is very much there. And that much money should be kept in your saving account. If there has anything over and above that, you can definitely think about parking these funds in other investment asset classes. I hope everything is clear to hear any doubt. Perish. But what happened to Sonal? What was her emergency? Men will be men. Here we are learning about money management and he is thinking about what happened to Sonal. What was the contingency that she faced? Okay, let's understand about what happened with Sonal when we discuss the second step of money management.\"\"\""
   ]
  },
  {
   "cell_type": "code",
   "execution_count": null,
   "metadata": {},
   "outputs": [],
   "source": [
    "# For Strings\n",
    "#parser = PlaintextParser.from_string(document1,Tokenizer(\"english\"))"
   ]
  },
  {
   "cell_type": "code",
   "execution_count": 5,
   "metadata": {},
   "outputs": [
    {
     "name": "stdout",
     "output_type": "stream",
     "text": [
      "[\"Hey folks here Rachana Ranadi here and I'm very happy to announce the launch of a new course which is Mastering Money Management. In this course I've talked about seven steps to master your money I'm sure few of you might have this question in your mind that is this course different from the original course of personal financial management? And the answer is yes the original course was barely around two or 15 minutes but this course on mastering money management is almost 5 hours 45 minutes so it's more than two times of the previous course duration but is that it? No, it is more personal, it's more elaborate, it has more examples and it is more fun so it's obviously a lot more and more. Not only this. In this course, we have talked about special taxation hacks wherein I have told certain tips and tricks. Of course legal tips and tricks where you can save almost RS5000 in tax in the very first year. And over a period of years you will be able to save taxation I mean you will be able to save lacks of rupees in taxation not only that we have discussed about how to plan your will what are certain points to be kept in mind while you draft your will? Is it necessary to draft a will or not? And a lot more points. Not only this, we have discussed about how to plan for your retirement fund of one crore rupees, how to plan for your first house, and how to plan for your first car. I thoroughly enjoyed shooting this course, and I'm sure that while you watch this course, you will definitely feel that, oh, my God, I learned a lot. And that, too, is absolute fun. So just to celebrate the Republic Day I'm happy to tell you that we are launching this course at this introductory offer price so don't forget to check out our website rachanaranadaycom and enroll for this course to master your money and to master your life. So here's a special sneak peek of this course hey folks, c A rachana Ranai here and I welcome you all to a very important course which is about master your money management. I feel this is a course which should have been discussed for everyone at the school level because I feel that we were taught about a lot of concepts at school which at that time we felt very important just to secure marks but they really did not have a great impact in our daily routines. Just to give you a simple example, I remember learning by heart a lot about French Revolution. But from that date till today, I have never, ever used anything related to French Revolution in my day to day life. But if I were taught about the power of compounding, about tax planning, about money management, about mutual funds, stock market and few more, at least at a very, very basic level, I'm sure I, and many of us, would have been better money managers by now. So this is my outlook. I have few team members who are sitting right here. It has been made mandatory for them to sit here and to attend the session. Otherwise it would have had an impact on their salary payments. So now they are here very much attentive let me ask them as well. What is their take on money management? So what do you feel is money management important? Yes. What have you taught about that at school? No. And do you feel that it should have been taught at school level? Yes. Now do you feel that this is the problem about just my city, Pune? No. Is it only about Maharashtra? No. Is it only about India? For that? I had been to Dubai recently and I thought of asking this same question to people from different countries. I was lucky to deliver a session where students from more than 20 countries attended my session. And in the small clip, you can see people from almost six or seven different countries. And let us hear their views on where they taught about money management skills at school or not. Which country are you from? The state? I'm originally from Palestine, but I live in the UAE. Okay. How about you? Okay. Were you talking about finances in schools? Not that much. Not much? No. What was that? One by one by one two. One by one two. That's it. Okay. Not at all? No. This is the collective answer. Do you feel teaching finances at school is very important? Yes. Collective answer. Okay. Who controls the financing investing district? For you? For myself. It's me. Wow. That's okay. It's me. But I'll make a mistake. Okay. Question for all of this is that if you have an insurance, how much times of your income are you charged? I'm not sure. 10% of your income? Actually, I don't invest in insurance. You should watch my channel. So I'm a creator trying to make more money. But I already have an insurance coverage and it was ten times my income at the time. Ten times? I have like three calories. So in case, like, I don't have a job, I have like three calories. I also have life insurance. Okay? Yeah, I also have life insurance. But I took that insurance during pandemic time because I'm so scared of the sun that I wanted to. Well, after having a look at this clip, I hope you understood that it's not only about India that money management is not taught at school. But unfortunately, it's across the globe that this important skill of money management is not taught. But it's never too late. It's a saying in Hindi as well. So I think this is the right time to start acquiring this skill and to learn managing your money in a better way. Now, I want you all to answer this question again. Have a look at this image. And do you know this person? Who is he? Any idea? Sushil Kumar. Sushil Kumar. Sahi Java five kara Shunirupe, I say question. Okay. So this picture is of Sushil Kumar and he had won five crores at KBC. Now, what do you feel today? He might be like a super duper rich person. A five crore is a huge amount, right? But just for you all, this person today is bankrupt. So it's not about only how much you earn. I think equal importance is about how do you save, how do you manage and how do you invest that money. Okay. Is there only one example? I think there are a lot of examples in some films as well. I would want to quote an example from a Marathi film. It's okay even if you have not seen that film. But it's a very amazing film. And the name of the film is Mulshi Patern. This film portrays the story of a farmer who sells off his land, agricultural land. Gets a lot of money as a lump sum money. But unfortunately, he doesn't know what is to be done with such a huge amount of money. What he does is that he weds off his daughters, spends a lot of money there. He buys some luxurious cars to spend whatever money is remaining with him at one point of time. What happens is that he doesn't have even that much money that he can fill up the petrol tanks in that car. So then it has shown that his wife is just using that car to dry clothes and dry utensils and whatnot. So this can be the story of a person who earns a lot but who doesn't know how to manage the money. So I hope everyone has understood the importance of money management as well. Yes. So can I say same weight, same importance to both only earning money? No, it's about earning money as well as managing the money as well. Now that you have understood the importance, the next question is that this course should be seen. By whom do you think only students should do this course? No, homemakers. Homemakers should see this as well. People who are doing business profession? Yes. Salaried people. Anyone and everyone. Yes. Because everyone loves to earn money. Now in this course we are going to understand how to master your money. Well, now that you have understood the importance of this course now let us get started and let us try and understand what are the various steps in your money management skills. The very first step is okay, let me keep this as a suspense and let me give you an example and see whether you are able to get the very first step by yourself or not. Let's take the example of Sonal and Monal. Here are two friends, sonal and Monal. Both have just graduated from college and have started working in a company. Both are earning the same salary of Rs25,000. Both being very good friends decided that come what may we both are going to save Rs10,000 each every single month. Now what they had not decided was where are they going to park these funds? Sonal decided to keep these Rs10,000 in her savings bank account whereas Monal decided to make four parts of these Rs10,000.01. Part of Rs2500 was invested in mutual funds. One in a PPF account, the third in equity shares and the fourth in bonds. At the end of the year, Sonal had earned barely around 4% return as she was just parking the funds in the saving account. Whereas Monell got a return of almost 10% because she had parked her funds in various investment assets. Now what do you think, Sonal? One or Monal? What are your thoughts? Monal, everyone? Monal? Yes, but Monal is where have I given the correct answer? Let me give you a twist in the story. Now there was some contingency and have a look at the faces of Sonal and Monal. Again, both seem to be a little bit worried. And Sonal is a little bit less worried maybe. Because now I'm going to tell you exactly what had happened. There was a contingency because of which both needed Rs25,000 at one shot. Now what do you think? Sonal might have been in a position to get that Rs25,000 just like that quickly. Yes or no? Yes. And what about Monal? She would need some time to withdraw the money. She would need some time to withdraw the money. Why? Because she is parked in different asset classes like equity shares. It will take two trading days. Correct? Correct. CM. Adam is right on her toes. Because she knows that for equity if you were to sell the shares it takes at least two days to get the money in your bank account. It is called as a T plus two settlement. Okay? T means trade. Whenever you did the trade trade of selling the shares and how many days plus two, that is the minimum amount. I mean, that is the number of days basically after which you will get the money. So that was the reason why as far as the liquidity was concerned liquidity means what? When do you get your money? Are you able to convert your investments into cash quickly or not? So for that, Monal was facing a problem. So now do you think that if a contingency were to arise, who is the winner? Is it Sonal or is it Monal? Sonal. But still I have not given my answer. Now I'll tell you one more point to this whole story, okay? Now if I were to ask about Sonal sonal was keeping the entire money in her saving account. Now what do you think? Was it wise enough for her to keep the whole money in the saving account so that she can meet any emergency that she would have faced? Or should there have been a cap on how much amount that should have been parked in the saving account. There should have been a cap to that. That is the very first step in our entire money management journey which is about understanding how much money should you have in your saving account or in a place where you can get your money. Just like that. Okay? So that concept is called as the concept of emergency funds. If you can repeat with me, it is known as emergency funds. So let us take a quick example and understand. How do you calculate the amount of emergency funds? Now, here is an Excel Sheet which can help you to calculate how much emergency funds should you have that you can access at any point in time, right? So you have to just list down all those committed or necessary monthly expenses. What is the word here? Necessary monthly expenses. So basically, you're not going to say, I want these many funds for party. That's a necessary expense. That's not going to happen, right? So what could be the necessary expenses? Possibility number one rent or EMI. Let us put this as zero only because what was the example that we were taking? We were talking about a case where Beet Sonal or Beat Monell both have just graduated. Assume that they are staying with their parents, right? And because they are staying with their parents, they are not going to pay rent to them. They are not also going to pay for the groceries or milk or whatever. So let's see what could be the possible expenses. No EMI insurance premium. Let's take she is paying an insurance premium of RS2000. Electricity bill, gas bill. She's going to push it to her parents. I'm sure about that. Then let us say petrol, diesel expenses, another RS2000, groceries bill, nothing. Internet, phone bill. Let's take Rs1000 and tuition fee. Nothing. Other necessary expenses? Nothing. Okay, quickly tell me, how much is her monthly committed expenditure? $5,000. Sleeping maximum expenditure for her is $5,000. Now, if you see here at the end, you can see emergency funds to be kept in cash or saving account or in an FD is how much? 30,000. So, basic math? 5000. I've given a multiplier of six. Okay. Now why is this? So, as per the basics of money management, six months of your monthly committed expenses should be kept at a place from where you can quickly access that money. Can you quickly access the money if you have kept it as cash in your locker? Yes. In your saving account? Yes. What about an FD? Can you premature the FD and get the money just like that? Yes, of course. Why not? You will be levied some penalty or some penal interest. That is okay. But you'll still be able to quickly access that money, right? So 30,000 should have been kept by Sonal in her savings account. Well, now, I hope you have understood the Excel sheet calculation. And now comes a quick question for you all. Can you recall how much money had Sonal kept in her savings account? If you remember, she was saving Rs10,000 per month and she was saving that for twelve months. Zorg boulke. One lakh 20,000. Perfect. If you speak slowly or in a very low voice, 10% salary gone. Okay. Control. Control. Okay. So one lakh 20,000 was the balance that Sonal had kept in her saving account, right? How much should have been kept by her? 30,000. So how much excess was she keeping in her saving account? That was Rs90,000. Now tell me, what is the problem in having 90,000 extra in your saving account? Is there any problem? Less returns. Less returns. So basically, can I say she lost the opportunity to earn more by parking these funds in different asset classes? Absolutely. Yes. So now again comes the same question. Who won? Did Sonal win? No. Did Monal win? No. None of them won. Because none of them had done my course on mastering money management. Now that you all know, I hope you all will not make the same mistake that Sonal did or Monell did so quickly tell me, what should you all be doing? It's your homework today. By the way, your first step in your money management journey. Number one, you have to calculate what is the amount of monthly emergency funds or monthly committed expenses? Basically, that is what you have to calculate. And how are you going to calculate that you have the Excel Sheet? Now, if you are watching this online, where are you going to find the Excel Sheet? That is where in the courses section itself, you are going to find the Excel Sheet. Okay. You have to download this Excel sheet. After downloading fill up, what are your committed expenses? Multiplier of sixes automatically given in our Excel Sheet formula is very much there. And that much money should be kept in your saving account. If there has anything over and above that, you can definitely think about parking these funds in other investment asset classes. I hope everything is clear to hear any doubt. Perish. But what happened to Sonal? What was her emergency? Men will be men. Here we are learning about money management and he is thinking about what happened to Sonal. What was the contingency that she faced? Okay, let's understand about what happened with Sonal when we discuss the second step of money management.\"]\n"
     ]
    }
   ],
   "source": [
    "f=open(r'D:\\NLP_RI\\output.txt')\n",
    "with open (r'D:\\NLP_RI\\output.txt') as f:\n",
    "    lines=f.readlines()\n",
    "print(lines)  "
   ]
  },
  {
   "cell_type": "code",
   "execution_count": 6,
   "metadata": {},
   "outputs": [],
   "source": [
    "# For Strings\n",
    "parser = PlaintextParser.from_string(lines,Tokenizer(\"english\"))"
   ]
  },
  {
   "cell_type": "code",
   "execution_count": 15,
   "metadata": {},
   "outputs": [],
   "source": [
    "# Using LexRank\n",
    "summarizer = LexRankSummarizer()\n",
    "#Summarize the document with 2 sentences\n",
    "summary = summarizer(parser.document, 15) "
   ]
  },
  {
   "cell_type": "code",
   "execution_count": 16,
   "metadata": {},
   "outputs": [
    {
     "name": "stdout",
     "output_type": "stream",
     "text": [
      "And the answer is yes the original course was barely around two or 15 minutes but this course on mastering money management is almost 5 hours 45 minutes so it's more than two times of the previous course duration but is that it?\n",
      "No, it is more personal, it's more elaborate, it has more examples and it is more fun so it's obviously a lot more and more.\n",
      "I feel this is a course which should have been discussed for everyone at the school level because I feel that we were taught about a lot of concepts at school which at that time we felt very important just to secure marks but they really did not have a great impact in our daily routines.\n",
      "But if I were taught about the power of compounding, about tax planning, about money management, about mutual funds, stock market and few more, at least at a very, very basic level, I'm sure I, and many of us, would have been better money managers by now.\n",
      "That's it.\n",
      "Question for all of this is that if you have an insurance, how much times of your income are you charged?\n",
      "So this can be the story of a person who earns a lot but who doesn't know how to manage the money.\n",
      "The very first step is okay, let me keep this as a suspense and let me give you an example and see whether you are able to get the very first step by yourself or not.\n",
      "Yes, but Monal is where have I given the correct answer?\n",
      "Yes or no?\n",
      "Is it Sonal or is it Monal?\n",
      "Now I'll tell you one more point to this whole story, okay?\n",
      "That is the very first step in our entire money management journey which is about understanding how much money should you have in your saving account or in a place where you can get your money.\n",
      "Now, here is an Excel Sheet which can help you to calculate how much emergency funds should you have that you can access at any point in time, right?\n",
      "That is okay.\n"
     ]
    }
   ],
   "source": [
    "for sentence in summary:\n",
    "    print(sentence)"
   ]
  },
  {
   "cell_type": "code",
   "execution_count": 17,
   "metadata": {},
   "outputs": [],
   "source": [
    "from sumy.summarizers.luhn import LuhnSummarizer"
   ]
  },
  {
   "cell_type": "code",
   "execution_count": 18,
   "metadata": {},
   "outputs": [],
   "source": [
    "summarizer_luhn = LuhnSummarizer()\n",
    "summary_1 =summarizer_luhn(parser.document,10)"
   ]
  },
  {
   "cell_type": "code",
   "execution_count": 19,
   "metadata": {},
   "outputs": [
    {
     "name": "stdout",
     "output_type": "stream",
     "text": [
      "In this course I've talked about seven steps to master your money I'm sure few of you might have this question in your mind that is this course different from the original course of personal financial management?\n",
      "And the answer is yes the original course was barely around two or 15 minutes but this course on mastering money management is almost 5 hours 45 minutes so it's more than two times of the previous course duration but is that it?\n",
      "And over a period of years you will be able to save taxation I mean you will be able to save lacks of rupees in taxation not only that we have discussed about how to plan your will what are certain points to be kept in mind while you draft your will?\n",
      "I feel this is a course which should have been discussed for everyone at the school level because I feel that we were taught about a lot of concepts at school which at that time we felt very important just to secure marks but they really did not have a great impact in our daily routines.\n",
      "But if I were taught about the power of compounding, about tax planning, about money management, about mutual funds, stock market and few more, at least at a very, very basic level, I'm sure I, and many of us, would have been better money managers by now.\n",
      "Well, now that you have understood the importance of this course now let us get started and let us try and understand what are the various steps in your money management skills.\n",
      "The very first step is okay, let me keep this as a suspense and let me give you an example and see whether you are able to get the very first step by yourself or not.\n",
      "That is the very first step in our entire money management journey which is about understanding how much money should you have in your saving account or in a place where you can get your money.\n",
      "Now, if you see here at the end, you can see emergency funds to be kept in cash or saving account or in an FD is how much?\n",
      "Now that you all know, I hope you all will not make the same mistake that Sonal did or Monell did so quickly tell me, what should you all be doing?\n"
     ]
    }
   ],
   "source": [
    "\n",
    "for sentence in summary_1:\n",
    "    print(sentence)"
   ]
  },
  {
   "cell_type": "code",
   "execution_count": 20,
   "metadata": {},
   "outputs": [],
   "source": [
    "\n",
    "from sumy.summarizers.lsa import LsaSummarizer"
   ]
  },
  {
   "cell_type": "code",
   "execution_count": 21,
   "metadata": {},
   "outputs": [],
   "source": [
    "summarizer_lsa = LsaSummarizer()\n",
    "summary_2 =summarizer_lsa(parser.document,10)"
   ]
  },
  {
   "cell_type": "code",
   "execution_count": 22,
   "metadata": {},
   "outputs": [
    {
     "name": "stdout",
     "output_type": "stream",
     "text": [
      "And in the small clip, you can see people from almost six or seven different countries.\n",
      "And let us hear their views on where they taught about money management skills at school or not.\n",
      "But I already have an insurance coverage and it was ten times my income at the time.\n",
      "But unfortunately, it's across the globe that this important skill of money management is not taught.\n",
      "But unfortunately, he doesn't know what is to be done with such a huge amount of money.\n",
      "He buys some luxurious cars to spend whatever money is remaining with him at one point of time.\n",
      "Whereas Monell got a return of almost 10% because she had parked her funds in various investment assets.\n",
      "So basically, can I say she lost the opportunity to earn more by parking these funds in different asset classes?\n",
      "If there has anything over and above that, you can definitely think about parking these funds in other investment asset classes.\n",
      "Okay, let's understand about what happened with Sonal when we discuss the second step of money management.\"]\n"
     ]
    }
   ],
   "source": [
    "for sentence in summary_2:\n",
    "    print(sentence)"
   ]
  },
  {
   "cell_type": "code",
   "execution_count": 23,
   "metadata": {},
   "outputs": [],
   "source": [
    "## Alternative Method using stopwords\n",
    "from sumy.nlp.stemmers import Stemmer\n",
    "from sumy.utils import get_stop_words\n",
    "summarizer_lsa2 = LsaSummarizer()\n",
    "summarizer_lsa2 = LsaSummarizer(Stemmer(\"english\"))\n",
    "summarizer_lsa2.stop_words = get_stop_words(\"english\")"
   ]
  },
  {
   "cell_type": "code",
   "execution_count": 24,
   "metadata": {},
   "outputs": [
    {
     "name": "stdout",
     "output_type": "stream",
     "text": [
      "[\"Hey folks here Rachana Ranadi here and I'm very happy to announce the launch of a new course which is Mastering Money Management.\n",
      "So just to celebrate the Republic Day I'm happy to tell you that we are launching this course at this introductory offer price so don't forget to check out our website rachanaranadaycom and enroll for this course to master your money and to master your life.\n",
      "Just to give you a simple example, I remember learning by heart a lot about French Revolution.\n",
      "Well, after having a look at this clip, I hope you understood that it's not only about India that money management is not taught at school.\n",
      "So I think this is the right time to start acquiring this skill and to learn managing your money in a better way.\n",
      "He buys some luxurious cars to spend whatever money is remaining with him at one point of time.\n",
      "Well, now that you have understood the importance of this course now let us get started and let us try and understand what are the various steps in your money management skills.\n",
      "At the end of the year, Sonal had earned barely around 4% return as she was just parking the funds in the saving account.\n",
      "Because she knows that for equity if you were to sell the shares it takes at least two days to get the money in your bank account.\n",
      "Was it wise enough for her to keep the whole money in the saving account so that she can meet any emergency that she would have faced?\n"
     ]
    }
   ],
   "source": [
    "for sentence in summarizer_lsa2(parser.document,10):\n",
    "    print(sentence)"
   ]
  },
  {
   "cell_type": "code",
   "execution_count": null,
   "metadata": {},
   "outputs": [],
   "source": []
  },
  {
   "cell_type": "code",
   "execution_count": null,
   "metadata": {},
   "outputs": [],
   "source": []
  },
  {
   "cell_type": "code",
   "execution_count": null,
   "metadata": {},
   "outputs": [],
   "source": []
  },
  {
   "cell_type": "code",
   "execution_count": null,
   "metadata": {},
   "outputs": [],
   "source": []
  },
  {
   "cell_type": "code",
   "execution_count": null,
   "metadata": {},
   "outputs": [],
   "source": []
  }
 ],
 "metadata": {
  "kernelspec": {
   "display_name": "Python 3",
   "language": "python",
   "name": "python3"
  },
  "language_info": {
   "codemirror_mode": {
    "name": "ipython",
    "version": 3
   },
   "file_extension": ".py",
   "mimetype": "text/x-python",
   "name": "python",
   "nbconvert_exporter": "python",
   "pygments_lexer": "ipython3",
   "version": "3.11.0"
  },
  "orig_nbformat": 4,
  "vscode": {
   "interpreter": {
    "hash": "af687b8e61e2b20cd80cabb549760ffa5735f43f38fd6f2198df49d6784db14e"
   }
  }
 },
 "nbformat": 4,
 "nbformat_minor": 2
}
