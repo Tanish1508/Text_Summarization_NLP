{
 "cells": [
  {
   "cell_type": "code",
   "execution_count": 7,
   "metadata": {},
   "outputs": [],
   "source": [
    "text=\"\"\"Hey folks here Rachana Ranadi here and I'm very happy to announce the launch of a new course which is Mastering Money Management. In this course I've talked about seven steps to master your money I'm sure few of you might have this question in your mind that is this course different from the original course of personal financial management? And the answer is yes the original course was barely around two or 15 minutes but this course on mastering money management is almost 5 hours 45 minutes so it's more than two times of the previous course duration but is that it? No, it is more personal, it's more elaborate, it has more examples and it is more fun so it's obviously a lot more and more. Not only this. In this course, we have talked about special taxation hacks wherein I have told certain tips and tricks. Of course legal tips and tricks where you can save almost RS5000 in tax in the very first year. And over a period of years you will be able to save taxation I mean you will be able to save lacks of rupees in taxation not only that we have discussed about how to plan your will what are certain points to be kept in mind while you draft your will? Is it necessary to draft a will or not? And a lot more points. Not only this, we have discussed about how to plan for your retirement fund of one crore rupees, how to plan for your first house, and how to plan for your first car. I thoroughly enjoyed shooting this course, and I'm sure that while you watch this course, you will definitely feel that, oh, my God, I learned a lot. And that, too, is absolute fun. So just to celebrate the Republic Day I'm happy to tell you that we are launching this course at this introductory offer price so don't forget to check out our website rachanaranadaycom and enroll for this course to master your money and to master your life. So here's a special sneak peek of this course hey folks, c A rachana Ranai here and I welcome you all to a very important course which is about master your money management. I feel this is a course which should have been discussed for everyone at the school level because I feel that we were taught about a lot of concepts at school which at that time we felt very important just to secure marks but they really did not have a great impact in our daily routines. Just to give you a simple example, I remember learning by heart a lot about French Revolution. But from that date till today, I have never, ever used anything related to French Revolution in my day to day life. But if I were taught about the power of compounding, about tax planning, about money management, about mutual funds, stock market and few more, at least at a very, very basic level, I'm sure I, and many of us, would have been better money managers by now. So this is my outlook. I have few team members who are sitting right here. It has been made mandatory for them to sit here and to attend the session. Otherwise it would have had an impact on their salary payments. So now they are here very much attentive let me ask them as well. What is their take on money management? So what do you feel is money management important? Yes. What have you taught about that at school? No. And do you feel that it should have been taught at school level? Yes. Now do you feel that this is the problem about just my city, Pune? No. Is it only about Maharashtra? No. Is it only about India? For that? I had been to Dubai recently and I thought of asking this same question to people from different countries. I was lucky to deliver a session where students from more than 20 countries attended my session. And in the small clip, you can see people from almost six or seven different countries. And let us hear their views on where they taught about money management skills at school or not. Which country are you from? The state? I'm originally from Palestine, but I live in the UAE. Okay. How about you? Okay. Were you talking about finances in schools? Not that much. Not much? No. What was that? One by one by one two. One by one two. That's it. Okay. Not at all? No. This is the collective answer. Do you feel teaching finances at school is very important? Yes. Collective answer. Okay. Who controls the financing investing district? For you? For myself. It's me. Wow. That's okay. It's me. But I'll make a mistake. Okay. Question for all of this is that if you have an insurance, how much times of your income are you charged? I'm not sure. 10% of your income? Actually, I don't invest in insurance. You should watch my channel. So I'm a creator trying to make more money. But I already have an insurance coverage and it was ten times my income at the time. Ten times? I have like three calories. So in case, like, I don't have a job, I have like three calories. I also have life insurance. Okay? Yeah, I also have life insurance. But I took that insurance during pandemic time because I'm so scared of the sun that I wanted to. Well, after having a look at this clip, I hope you understood that it's not only about India that money management is not taught at school. But unfortunately, it's across the globe that this important skill of money management is not taught. But it's never too late. It's a saying in Hindi as well. So I think this is the right time to start acquiring this skill and to learn managing your money in a better way. Now, I want you all to answer this question again. Have a look at this image. And do you know this person? Who is he? Any idea? Sushil Kumar. Sushil Kumar. Sahi Java five kara Shunirupe, I say question. Okay. So this picture is of Sushil Kumar and he had won five crores at KBC. Now, what do you feel today? He might be like a super duper rich person. A five crore is a huge amount, right? But just for you all, this person today is bankrupt. So it's not about only how much you earn. I think equal importance is about how do you save, how do you manage and how do you invest that money. Okay. Is there only one example? I think there are a lot of examples in some films as well. I would want to quote an example from a Marathi film. It's okay even if you have not seen that film. But it's a very amazing film. And the name of the film is Mulshi Patern. This film portrays the story of a farmer who sells off his land, agricultural land. Gets a lot of money as a lump sum money. But unfortunately, he doesn't know what is to be done with such a huge amount of money. What he does is that he weds off his daughters, spends a lot of money there. He buys some luxurious cars to spend whatever money is remaining with him at one point of time. What happens is that he doesn't have even that much money that he can fill up the petrol tanks in that car. So then it has shown that his wife is just using that car to dry clothes and dry utensils and whatnot. So this can be the story of a person who earns a lot but who doesn't know how to manage the money. So I hope everyone has understood the importance of money management as well. Yes. So can I say same weight, same importance to both only earning money? No, it's about earning money as well as managing the money as well. Now that you have understood the importance, the next question is that this course should be seen. By whom do you think only students should do this course? No, homemakers. Homemakers should see this as well. People who are doing business profession? Yes. Salaried people. Anyone and everyone. Yes. Because everyone loves to earn money. Now in this course we are going to understand how to master your money. Well, now that you have understood the importance of this course now let us get started and let us try and understand what are the various steps in your money management skills. The very first step is okay, let me keep this as a suspense and let me give you an example and see whether you are able to get the very first step by yourself or not. Let's take the example of Sonal and Monal. Here are two friends, sonal and Monal. Both have just graduated from college and have started working in a company. Both are earning the same salary of Rs25,000. Both being very good friends decided that come what may we both are going to save Rs10,000 each every single month. Now what they had not decided was where are they going to park these funds? Sonal decided to keep these Rs10,000 in her savings bank account whereas Monal decided to make four parts of these Rs10,000.01. Part of Rs2500 was invested in mutual funds. One in a PPF account, the third in equity shares and the fourth in bonds. At the end of the year, Sonal had earned barely around 4% return as she was just parking the funds in the saving account. Whereas Monell got a return of almost 10% because she had parked her funds in various investment assets. Now what do you think, Sonal? One or Monal? What are your thoughts? Monal, everyone? Monal? Yes, but Monal is where have I given the correct answer? Let me give you a twist in the story. Now there was some contingency and have a look at the faces of Sonal and Monal. Again, both seem to be a little bit worried. And Sonal is a little bit less worried maybe. Because now I'm going to tell you exactly what had happened. There was a contingency because of which both needed Rs25,000 at one shot. Now what do you think? Sonal might have been in a position to get that Rs25,000 just like that quickly. Yes or no? Yes. And what about Monal? She would need some time to withdraw the money. She would need some time to withdraw the money. Why? Because she is parked in different asset classes like equity shares. It will take two trading days. Correct? Correct. CM. Adam is right on her toes. Because she knows that for equity if you were to sell the shares it takes at least two days to get the money in your bank account. It is called as a T plus two settlement. Okay? T means trade. Whenever you did the trade trade of selling the shares and how many days plus two, that is the minimum amount. I mean, that is the number of days basically after which you will get the money. So that was the reason why as far as the liquidity was concerned liquidity means what? When do you get your money? Are you able to convert your investments into cash quickly or not? So for that, Monal was facing a problem. So now do you think that if a contingency were to arise, who is the winner? Is it Sonal or is it Monal? Sonal. But still I have not given my answer. Now I'll tell you one more point to this whole story, okay? Now if I were to ask about Sonal sonal was keeping the entire money in her saving account. Now what do you think? Was it wise enough for her to keep the whole money in the saving account so that she can meet any emergency that she would have faced? Or should there have been a cap on how much amount that should have been parked in the saving account. There should have been a cap to that. That is the very first step in our entire money management journey which is about understanding how much money should you have in your saving account or in a place where you can get your money. Just like that. Okay? So that concept is called as the concept of emergency funds. If you can repeat with me, it is known as emergency funds. So let us take a quick example and understand. How do you calculate the amount of emergency funds? Now, here is an Excel Sheet which can help you to calculate how much emergency funds should you have that you can access at any point in time, right? So you have to just list down all those committed or necessary monthly expenses. What is the word here? Necessary monthly expenses. So basically, you're not going to say, I want these many funds for party. That's a necessary expense. That's not going to happen, right? So what could be the necessary expenses? Possibility number one rent or EMI. Let us put this as zero only because what was the example that we were taking? We were talking about a case where Beet Sonal or Beat Monell both have just graduated. Assume that they are staying with their parents, right? And because they are staying with their parents, they are not going to pay rent to them. They are not also going to pay for the groceries or milk or whatever. So let's see what could be the possible expenses. No EMI insurance premium. Let's take she is paying an insurance premium of RS2000. Electricity bill, gas bill. She's going to push it to her parents. I'm sure about that. Then let us say petrol, diesel expenses, another RS2000, groceries bill, nothing. Internet, phone bill. Let's take Rs1000 and tuition fee. Nothing. Other necessary expenses? Nothing. Okay, quickly tell me, how much is her monthly committed expenditure? $5,000. Sleeping maximum expenditure for her is $5,000. Now, if you see here at the end, you can see emergency funds to be kept in cash or saving account or in an FD is how much? 30,000. So, basic math? 5000. I've given a multiplier of six. Okay. Now why is this? So, as per the basics of money management, six months of your monthly committed expenses should be kept at a place from where you can quickly access that money. Can you quickly access the money if you have kept it as cash in your locker? Yes. In your saving account? Yes. What about an FD? Can you premature the FD and get the money just like that? Yes, of course. Why not? You will be levied some penalty or some penal interest. That is okay. But you'll still be able to quickly access that money, right? So 30,000 should have been kept by Sonal in her savings account. Well, now, I hope you have understood the Excel sheet calculation. And now comes a quick question for you all. Can you recall how much money had Sonal kept in her savings account? If you remember, she was saving Rs10,000 per month and she was saving that for twelve months. Zorg boulke. One lakh 20,000. Perfect. If you speak slowly or in a very low voice, 10% salary gone. Okay. Control. Control. Okay. So one lakh 20,000 was the balance that Sonal had kept in her saving account, right? How much should have been kept by her? 30,000. So how much excess was she keeping in her saving account? That was Rs90,000. Now tell me, what is the problem in having 90,000 extra in your saving account? Is there any problem? Less returns. Less returns. So basically, can I say she lost the opportunity to earn more by parking these funds in different asset classes? Absolutely. Yes. So now again comes the same question. Who won? Did Sonal win? No. Did Monal win? No. None of them won. Because none of them had done my course on mastering money management. Now that you all know, I hope you all will not make the same mistake that Sonal did or Monell did so quickly tell me, what should you all be doing? It's your homework today. By the way, your first step in your money management journey. Number one, you have to calculate what is the amount of monthly emergency funds or monthly committed expenses? Basically, that is what you have to calculate. And how are you going to calculate that you have the Excel Sheet? Now, if you are watching this online, where are you going to find the Excel Sheet? That is where in the courses section itself, you are going to find the Excel Sheet. Okay. You have to download this Excel sheet. After downloading fill up, what are your committed expenses? Multiplier of sixes automatically given in our Excel Sheet formula is very much there. And that much money should be kept in your saving account. If there has anything over and above that, you can definitely think about parking these funds in other investment asset classes. I hope everything is clear to hear any doubt. Perish. But what happened to Sonal? What was her emergency? Men will be men. Here we are learning about money management and he is thinking about what happened to Sonal. What was the contingency that she faced? Okay, let's understand about what happened with Sonal when we discuss the second step of money management.\"\"\""
   ]
  },
  {
   "cell_type": "code",
   "execution_count": 1,
   "metadata": {},
   "outputs": [
    {
     "name": "stdout",
     "output_type": "stream",
     "text": [
      "Defaulting to user installation because normal site-packages is not writeable\n",
      "Requirement already satisfied: spacy in c:\\users\\user\\appdata\\roaming\\python\\python311\\site-packages (3.5.0)\n",
      "Requirement already satisfied: spacy-legacy<3.1.0,>=3.0.11 in c:\\users\\user\\appdata\\roaming\\python\\python311\\site-packages (from spacy) (3.0.12)\n",
      "Requirement already satisfied: spacy-loggers<2.0.0,>=1.0.0 in c:\\users\\user\\appdata\\roaming\\python\\python311\\site-packages (from spacy) (1.0.4)\n",
      "Requirement already satisfied: murmurhash<1.1.0,>=0.28.0 in c:\\users\\user\\appdata\\roaming\\python\\python311\\site-packages (from spacy) (1.0.9)\n",
      "Requirement already satisfied: cymem<2.1.0,>=2.0.2 in c:\\users\\user\\appdata\\roaming\\python\\python311\\site-packages (from spacy) (2.0.7)\n",
      "Requirement already satisfied: preshed<3.1.0,>=3.0.2 in c:\\users\\user\\appdata\\roaming\\python\\python311\\site-packages (from spacy) (3.0.8)\n",
      "Requirement already satisfied: thinc<8.2.0,>=8.1.0 in c:\\users\\user\\appdata\\roaming\\python\\python311\\site-packages (from spacy) (8.1.7)\n",
      "Requirement already satisfied: wasabi<1.2.0,>=0.9.1 in c:\\users\\user\\appdata\\roaming\\python\\python311\\site-packages (from spacy) (1.1.1)\n",
      "Requirement already satisfied: srsly<3.0.0,>=2.4.3 in c:\\users\\user\\appdata\\roaming\\python\\python311\\site-packages (from spacy) (2.4.5)\n",
      "Requirement already satisfied: catalogue<2.1.0,>=2.0.6 in c:\\users\\user\\appdata\\roaming\\python\\python311\\site-packages (from spacy) (2.0.8)\n",
      "Requirement already satisfied: typer<0.8.0,>=0.3.0 in c:\\users\\user\\appdata\\roaming\\python\\python311\\site-packages (from spacy) (0.7.0)\n",
      "Requirement already satisfied: pathy>=0.10.0 in c:\\users\\user\\appdata\\roaming\\python\\python311\\site-packages (from spacy) (0.10.1)\n",
      "Requirement already satisfied: smart-open<7.0.0,>=5.2.1 in c:\\users\\user\\appdata\\roaming\\python\\python311\\site-packages (from spacy) (6.3.0)\n",
      "Requirement already satisfied: tqdm<5.0.0,>=4.38.0 in c:\\users\\user\\appdata\\roaming\\python\\python311\\site-packages (from spacy) (4.64.1)\n",
      "Requirement already satisfied: numpy>=1.15.0 in c:\\users\\user\\appdata\\roaming\\python\\python311\\site-packages (from spacy) (1.23.5)\n",
      "Requirement already satisfied: requests<3.0.0,>=2.13.0 in c:\\users\\user\\appdata\\roaming\\python\\python311\\site-packages (from spacy) (2.28.2)\n",
      "Requirement already satisfied: pydantic!=1.8,!=1.8.1,<1.11.0,>=1.7.4 in c:\\users\\user\\appdata\\roaming\\python\\python311\\site-packages (from spacy) (1.10.4)\n",
      "Requirement already satisfied: jinja2 in c:\\users\\user\\appdata\\roaming\\python\\python311\\site-packages (from spacy) (3.1.2)\n",
      "Requirement already satisfied: setuptools in c:\\program files\\python 3.11.0\\lib\\site-packages (from spacy) (65.5.0)\n",
      "Requirement already satisfied: packaging>=20.0 in c:\\users\\user\\appdata\\roaming\\python\\python311\\site-packages (from spacy) (23.0)\n",
      "Requirement already satisfied: langcodes<4.0.0,>=3.2.0 in c:\\users\\user\\appdata\\roaming\\python\\python311\\site-packages (from spacy) (3.3.0)\n",
      "Requirement already satisfied: typing-extensions>=4.2.0 in c:\\users\\user\\appdata\\roaming\\python\\python311\\site-packages (from pydantic!=1.8,!=1.8.1,<1.11.0,>=1.7.4->spacy) (4.4.0)\n",
      "Requirement already satisfied: charset-normalizer<4,>=2 in c:\\users\\user\\appdata\\roaming\\python\\python311\\site-packages (from requests<3.0.0,>=2.13.0->spacy) (2.1.1)\n",
      "Requirement already satisfied: idna<4,>=2.5 in c:\\users\\user\\appdata\\roaming\\python\\python311\\site-packages (from requests<3.0.0,>=2.13.0->spacy) (3.4)\n",
      "Requirement already satisfied: urllib3<1.27,>=1.21.1 in c:\\users\\user\\appdata\\roaming\\python\\python311\\site-packages (from requests<3.0.0,>=2.13.0->spacy) (1.26.14)\n",
      "Requirement already satisfied: certifi>=2017.4.17 in c:\\users\\user\\appdata\\roaming\\python\\python311\\site-packages (from requests<3.0.0,>=2.13.0->spacy) (2022.12.7)\n",
      "Requirement already satisfied: blis<0.8.0,>=0.7.8 in c:\\users\\user\\appdata\\roaming\\python\\python311\\site-packages (from thinc<8.2.0,>=8.1.0->spacy) (0.7.9)\n",
      "Requirement already satisfied: confection<1.0.0,>=0.0.1 in c:\\users\\user\\appdata\\roaming\\python\\python311\\site-packages (from thinc<8.2.0,>=8.1.0->spacy) (0.0.4)\n",
      "Requirement already satisfied: colorama in c:\\users\\user\\appdata\\roaming\\python\\python311\\site-packages (from tqdm<5.0.0,>=4.38.0->spacy) (0.4.6)\n",
      "Requirement already satisfied: click<9.0.0,>=7.1.1 in c:\\users\\user\\appdata\\roaming\\python\\python311\\site-packages (from typer<0.8.0,>=0.3.0->spacy) (8.1.3)\n",
      "Requirement already satisfied: MarkupSafe>=2.0 in c:\\users\\user\\appdata\\roaming\\python\\python311\\site-packages (from jinja2->spacy) (2.1.2)\n"
     ]
    }
   ],
   "source": [
    "!pip install -U spacy"
   ]
  },
  {
   "cell_type": "code",
   "execution_count": 2,
   "metadata": {},
   "outputs": [
    {
     "name": "stdout",
     "output_type": "stream",
     "text": [
      "Defaulting to user installation because normal site-packages is not writeable\n",
      "Collecting en-core-web-sm==3.5.0\n",
      "  Downloading https://github.com/explosion/spacy-models/releases/download/en_core_web_sm-3.5.0/en_core_web_sm-3.5.0-py3-none-any.whl (12.8 MB)\n",
      "     ---------------------------------------- 0.0/12.8 MB ? eta -:--:--\n",
      "      --------------------------------------- 0.3/12.8 MB 5.2 MB/s eta 0:00:03\n",
      "     --- ------------------------------------ 1.2/12.8 MB 13.2 MB/s eta 0:00:01\n",
      "     ------- -------------------------------- 2.5/12.8 MB 17.6 MB/s eta 0:00:01\n",
      "     ------- -------------------------------- 2.5/12.8 MB 17.6 MB/s eta 0:00:01\n",
      "     ----------- ---------------------------- 3.7/12.8 MB 15.6 MB/s eta 0:00:01\n",
      "     ------------- -------------------------- 4.2/12.8 MB 16.7 MB/s eta 0:00:01\n",
      "     ------------- -------------------------- 4.2/12.8 MB 16.7 MB/s eta 0:00:01\n",
      "     ------------- -------------------------- 4.2/12.8 MB 16.7 MB/s eta 0:00:01\n",
      "     ------------- -------------------------- 4.4/12.8 MB 10.3 MB/s eta 0:00:01\n",
      "     ------------------- -------------------- 6.2/12.8 MB 13.3 MB/s eta 0:00:01\n",
      "     ------------------------ --------------- 8.0/12.8 MB 15.4 MB/s eta 0:00:01\n",
      "     ------------------------- -------------- 8.3/12.8 MB 16.0 MB/s eta 0:00:01\n",
      "     ------------------------- -------------- 8.3/12.8 MB 16.0 MB/s eta 0:00:01\n",
      "     -------------------------- ------------- 8.4/12.8 MB 13.7 MB/s eta 0:00:01\n",
      "     -------------------------- ------------- 8.4/12.8 MB 13.7 MB/s eta 0:00:01\n",
      "     -------------------------- ------------- 8.4/12.8 MB 13.7 MB/s eta 0:00:01\n",
      "     -------------------------- ------------- 8.4/12.8 MB 13.7 MB/s eta 0:00:01\n",
      "     ---------------------------- ----------- 9.2/12.8 MB 10.9 MB/s eta 0:00:01\n",
      "     -------------------------------- ------ 10.7/12.8 MB 12.4 MB/s eta 0:00:01\n",
      "     ------------------------------------- - 12.2/12.8 MB 12.6 MB/s eta 0:00:01\n",
      "     --------------------------------------  12.6/12.8 MB 12.6 MB/s eta 0:00:01\n",
      "     --------------------------------------  12.6/12.8 MB 12.6 MB/s eta 0:00:01\n",
      "     --------------------------------------- 12.8/12.8 MB 11.9 MB/s eta 0:00:00\n",
      "Requirement already satisfied: spacy<3.6.0,>=3.5.0 in c:\\users\\user\\appdata\\roaming\\python\\python311\\site-packages (from en-core-web-sm==3.5.0) (3.5.0)\n",
      "Requirement already satisfied: spacy-legacy<3.1.0,>=3.0.11 in c:\\users\\user\\appdata\\roaming\\python\\python311\\site-packages (from spacy<3.6.0,>=3.5.0->en-core-web-sm==3.5.0) (3.0.12)\n",
      "Requirement already satisfied: spacy-loggers<2.0.0,>=1.0.0 in c:\\users\\user\\appdata\\roaming\\python\\python311\\site-packages (from spacy<3.6.0,>=3.5.0->en-core-web-sm==3.5.0) (1.0.4)\n",
      "Requirement already satisfied: murmurhash<1.1.0,>=0.28.0 in c:\\users\\user\\appdata\\roaming\\python\\python311\\site-packages (from spacy<3.6.0,>=3.5.0->en-core-web-sm==3.5.0) (1.0.9)\n",
      "Requirement already satisfied: cymem<2.1.0,>=2.0.2 in c:\\users\\user\\appdata\\roaming\\python\\python311\\site-packages (from spacy<3.6.0,>=3.5.0->en-core-web-sm==3.5.0) (2.0.7)\n",
      "Requirement already satisfied: preshed<3.1.0,>=3.0.2 in c:\\users\\user\\appdata\\roaming\\python\\python311\\site-packages (from spacy<3.6.0,>=3.5.0->en-core-web-sm==3.5.0) (3.0.8)\n",
      "Requirement already satisfied: thinc<8.2.0,>=8.1.0 in c:\\users\\user\\appdata\\roaming\\python\\python311\\site-packages (from spacy<3.6.0,>=3.5.0->en-core-web-sm==3.5.0) (8.1.7)\n",
      "Requirement already satisfied: wasabi<1.2.0,>=0.9.1 in c:\\users\\user\\appdata\\roaming\\python\\python311\\site-packages (from spacy<3.6.0,>=3.5.0->en-core-web-sm==3.5.0) (1.1.1)\n",
      "Requirement already satisfied: srsly<3.0.0,>=2.4.3 in c:\\users\\user\\appdata\\roaming\\python\\python311\\site-packages (from spacy<3.6.0,>=3.5.0->en-core-web-sm==3.5.0) (2.4.5)\n",
      "Requirement already satisfied: catalogue<2.1.0,>=2.0.6 in c:\\users\\user\\appdata\\roaming\\python\\python311\\site-packages (from spacy<3.6.0,>=3.5.0->en-core-web-sm==3.5.0) (2.0.8)\n",
      "Requirement already satisfied: typer<0.8.0,>=0.3.0 in c:\\users\\user\\appdata\\roaming\\python\\python311\\site-packages (from spacy<3.6.0,>=3.5.0->en-core-web-sm==3.5.0) (0.7.0)\n",
      "Requirement already satisfied: pathy>=0.10.0 in c:\\users\\user\\appdata\\roaming\\python\\python311\\site-packages (from spacy<3.6.0,>=3.5.0->en-core-web-sm==3.5.0) (0.10.1)\n",
      "Requirement already satisfied: smart-open<7.0.0,>=5.2.1 in c:\\users\\user\\appdata\\roaming\\python\\python311\\site-packages (from spacy<3.6.0,>=3.5.0->en-core-web-sm==3.5.0) (6.3.0)\n",
      "Requirement already satisfied: tqdm<5.0.0,>=4.38.0 in c:\\users\\user\\appdata\\roaming\\python\\python311\\site-packages (from spacy<3.6.0,>=3.5.0->en-core-web-sm==3.5.0) (4.64.1)\n",
      "Requirement already satisfied: numpy>=1.15.0 in c:\\users\\user\\appdata\\roaming\\python\\python311\\site-packages (from spacy<3.6.0,>=3.5.0->en-core-web-sm==3.5.0) (1.23.5)\n",
      "Requirement already satisfied: requests<3.0.0,>=2.13.0 in c:\\users\\user\\appdata\\roaming\\python\\python311\\site-packages (from spacy<3.6.0,>=3.5.0->en-core-web-sm==3.5.0) (2.28.2)\n",
      "Requirement already satisfied: pydantic!=1.8,!=1.8.1,<1.11.0,>=1.7.4 in c:\\users\\user\\appdata\\roaming\\python\\python311\\site-packages (from spacy<3.6.0,>=3.5.0->en-core-web-sm==3.5.0) (1.10.4)\n",
      "Requirement already satisfied: jinja2 in c:\\users\\user\\appdata\\roaming\\python\\python311\\site-packages (from spacy<3.6.0,>=3.5.0->en-core-web-sm==3.5.0) (3.1.2)\n",
      "Requirement already satisfied: setuptools in c:\\program files\\python 3.11.0\\lib\\site-packages (from spacy<3.6.0,>=3.5.0->en-core-web-sm==3.5.0) (65.5.0)\n",
      "Requirement already satisfied: packaging>=20.0 in c:\\users\\user\\appdata\\roaming\\python\\python311\\site-packages (from spacy<3.6.0,>=3.5.0->en-core-web-sm==3.5.0) (23.0)\n",
      "Requirement already satisfied: langcodes<4.0.0,>=3.2.0 in c:\\users\\user\\appdata\\roaming\\python\\python311\\site-packages (from spacy<3.6.0,>=3.5.0->en-core-web-sm==3.5.0) (3.3.0)\n",
      "Requirement already satisfied: typing-extensions>=4.2.0 in c:\\users\\user\\appdata\\roaming\\python\\python311\\site-packages (from pydantic!=1.8,!=1.8.1,<1.11.0,>=1.7.4->spacy<3.6.0,>=3.5.0->en-core-web-sm==3.5.0) (4.4.0)\n",
      "Requirement already satisfied: charset-normalizer<4,>=2 in c:\\users\\user\\appdata\\roaming\\python\\python311\\site-packages (from requests<3.0.0,>=2.13.0->spacy<3.6.0,>=3.5.0->en-core-web-sm==3.5.0) (2.1.1)\n",
      "Requirement already satisfied: idna<4,>=2.5 in c:\\users\\user\\appdata\\roaming\\python\\python311\\site-packages (from requests<3.0.0,>=2.13.0->spacy<3.6.0,>=3.5.0->en-core-web-sm==3.5.0) (3.4)\n",
      "Requirement already satisfied: urllib3<1.27,>=1.21.1 in c:\\users\\user\\appdata\\roaming\\python\\python311\\site-packages (from requests<3.0.0,>=2.13.0->spacy<3.6.0,>=3.5.0->en-core-web-sm==3.5.0) (1.26.14)\n",
      "Requirement already satisfied: certifi>=2017.4.17 in c:\\users\\user\\appdata\\roaming\\python\\python311\\site-packages (from requests<3.0.0,>=2.13.0->spacy<3.6.0,>=3.5.0->en-core-web-sm==3.5.0) (2022.12.7)\n",
      "Requirement already satisfied: blis<0.8.0,>=0.7.8 in c:\\users\\user\\appdata\\roaming\\python\\python311\\site-packages (from thinc<8.2.0,>=8.1.0->spacy<3.6.0,>=3.5.0->en-core-web-sm==3.5.0) (0.7.9)\n",
      "Requirement already satisfied: confection<1.0.0,>=0.0.1 in c:\\users\\user\\appdata\\roaming\\python\\python311\\site-packages (from thinc<8.2.0,>=8.1.0->spacy<3.6.0,>=3.5.0->en-core-web-sm==3.5.0) (0.0.4)\n",
      "Requirement already satisfied: colorama in c:\\users\\user\\appdata\\roaming\\python\\python311\\site-packages (from tqdm<5.0.0,>=4.38.0->spacy<3.6.0,>=3.5.0->en-core-web-sm==3.5.0) (0.4.6)\n",
      "Requirement already satisfied: click<9.0.0,>=7.1.1 in c:\\users\\user\\appdata\\roaming\\python\\python311\\site-packages (from typer<0.8.0,>=0.3.0->spacy<3.6.0,>=3.5.0->en-core-web-sm==3.5.0) (8.1.3)\n",
      "Requirement already satisfied: MarkupSafe>=2.0 in c:\\users\\user\\appdata\\roaming\\python\\python311\\site-packages (from jinja2->spacy<3.6.0,>=3.5.0->en-core-web-sm==3.5.0) (2.1.2)\n",
      "\u001b[38;5;2m✔ Download and installation successful\u001b[0m\n",
      "You can now load the package via spacy.load('en_core_web_sm')\n"
     ]
    }
   ],
   "source": [
    "!python -m spacy download en_core_web_sm"
   ]
  },
  {
   "cell_type": "code",
   "execution_count": 3,
   "metadata": {},
   "outputs": [],
   "source": [
    "import spacy\n",
    "from spacy.lang.en.stop_words import STOP_WORDS\n",
    "from string import punctuation"
   ]
  },
  {
   "cell_type": "code",
   "execution_count": 4,
   "metadata": {},
   "outputs": [],
   "source": [
    "stopwords = list(STOP_WORDS)"
   ]
  },
  {
   "cell_type": "code",
   "execution_count": 5,
   "metadata": {},
   "outputs": [],
   "source": [
    "nlp = spacy.load('en_core_web_sm')"
   ]
  },
  {
   "cell_type": "code",
   "execution_count": 8,
   "metadata": {},
   "outputs": [],
   "source": [
    "doc = nlp(text)"
   ]
  },
  {
   "cell_type": "code",
   "execution_count": 9,
   "metadata": {},
   "outputs": [
    {
     "name": "stdout",
     "output_type": "stream",
     "text": [
      "['Hey', 'folks', 'here', 'Rachana', 'Ranadi', 'here', 'and', 'I', \"'m\", 'very', 'happy', 'to', 'announce', 'the', 'launch', 'of', 'a', 'new', 'course', 'which', 'is', 'Mastering', 'Money', 'Management', '.', 'In', 'this', 'course', 'I', \"'ve\", 'talked', 'about', 'seven', 'steps', 'to', 'master', 'your', 'money', 'I', \"'m\", 'sure', 'few', 'of', 'you', 'might', 'have', 'this', 'question', 'in', 'your', 'mind', 'that', 'is', 'this', 'course', 'different', 'from', 'the', 'original', 'course', 'of', 'personal', 'financial', 'management', '?', 'And', 'the', 'answer', 'is', 'yes', 'the', 'original', 'course', 'was', 'barely', 'around', 'two', 'or', '15', 'minutes', 'but', 'this', 'course', 'on', 'mastering', 'money', 'management', 'is', 'almost', '5', 'hours', '45', 'minutes', 'so', 'it', \"'s\", 'more', 'than', 'two', 'times', 'of', 'the', 'previous', 'course', 'duration', 'but', 'is', 'that', 'it', '?', 'No', ',', 'it', 'is', 'more', 'personal', ',', 'it', \"'s\", 'more', 'elaborate', ',', 'it', 'has', 'more', 'examples', 'and', 'it', 'is', 'more', 'fun', 'so', 'it', \"'s\", 'obviously', 'a', 'lot', 'more', 'and', 'more', '.', 'Not', 'only', 'this', '.', 'In', 'this', 'course', ',', 'we', 'have', 'talked', 'about', 'special', 'taxation', 'hacks', 'wherein', 'I', 'have', 'told', 'certain', 'tips', 'and', 'tricks', '.', 'Of', 'course', 'legal', 'tips', 'and', 'tricks', 'where', 'you', 'can', 'save', 'almost', 'RS5000', 'in', 'tax', 'in', 'the', 'very', 'first', 'year', '.', 'And', 'over', 'a', 'period', 'of', 'years', 'you', 'will', 'be', 'able', 'to', 'save', 'taxation', 'I', 'mean', 'you', 'will', 'be', 'able', 'to', 'save', 'lacks', 'of', 'rupees', 'in', 'taxation', 'not', 'only', 'that', 'we', 'have', 'discussed', 'about', 'how', 'to', 'plan', 'your', 'will', 'what', 'are', 'certain', 'points', 'to', 'be', 'kept', 'in', 'mind', 'while', 'you', 'draft', 'your', 'will', '?', 'Is', 'it', 'necessary', 'to', 'draft', 'a', 'will', 'or', 'not', '?', 'And', 'a', 'lot', 'more', 'points', '.', 'Not', 'only', 'this', ',', 'we', 'have', 'discussed', 'about', 'how', 'to', 'plan', 'for', 'your', 'retirement', 'fund', 'of', 'one', 'crore', 'rupees', ',', 'how', 'to', 'plan', 'for', 'your', 'first', 'house', ',', 'and', 'how', 'to', 'plan', 'for', 'your', 'first', 'car', '.', 'I', 'thoroughly', 'enjoyed', 'shooting', 'this', 'course', ',', 'and', 'I', \"'m\", 'sure', 'that', 'while', 'you', 'watch', 'this', 'course', ',', 'you', 'will', 'definitely', 'feel', 'that', ',', 'oh', ',', 'my', 'God', ',', 'I', 'learned', 'a', 'lot', '.', 'And', 'that', ',', 'too', ',', 'is', 'absolute', 'fun', '.', 'So', 'just', 'to', 'celebrate', 'the', 'Republic', 'Day', 'I', \"'m\", 'happy', 'to', 'tell', 'you', 'that', 'we', 'are', 'launching', 'this', 'course', 'at', 'this', 'introductory', 'offer', 'price', 'so', 'do', \"n't\", 'forget', 'to', 'check', 'out', 'our', 'website', 'rachanaranadaycom', 'and', 'enroll', 'for', 'this', 'course', 'to', 'master', 'your', 'money', 'and', 'to', 'master', 'your', 'life', '.', 'So', 'here', \"'s\", 'a', 'special', 'sneak', 'peek', 'of', 'this', 'course', 'hey', 'folks', ',', 'c', 'A', 'rachana', 'Ranai', 'here', 'and', 'I', 'welcome', 'you', 'all', 'to', 'a', 'very', 'important', 'course', 'which', 'is', 'about', 'master', 'your', 'money', 'management', '.', 'I', 'feel', 'this', 'is', 'a', 'course', 'which', 'should', 'have', 'been', 'discussed', 'for', 'everyone', 'at', 'the', 'school', 'level', 'because', 'I', 'feel', 'that', 'we', 'were', 'taught', 'about', 'a', 'lot', 'of', 'concepts', 'at', 'school', 'which', 'at', 'that', 'time', 'we', 'felt', 'very', 'important', 'just', 'to', 'secure', 'marks', 'but', 'they', 'really', 'did', 'not', 'have', 'a', 'great', 'impact', 'in', 'our', 'daily', 'routines', '.', 'Just', 'to', 'give', 'you', 'a', 'simple', 'example', ',', 'I', 'remember', 'learning', 'by', 'heart', 'a', 'lot', 'about', 'French', 'Revolution', '.', 'But', 'from', 'that', 'date', 'till', 'today', ',', 'I', 'have', 'never', ',', 'ever', 'used', 'anything', 'related', 'to', 'French', 'Revolution', 'in', 'my', 'day', 'to', 'day', 'life', '.', 'But', 'if', 'I', 'were', 'taught', 'about', 'the', 'power', 'of', 'compounding', ',', 'about', 'tax', 'planning', ',', 'about', 'money', 'management', ',', 'about', 'mutual', 'funds', ',', 'stock', 'market', 'and', 'few', 'more', ',', 'at', 'least', 'at', 'a', 'very', ',', 'very', 'basic', 'level', ',', 'I', \"'m\", 'sure', 'I', ',', 'and', 'many', 'of', 'us', ',', 'would', 'have', 'been', 'better', 'money', 'managers', 'by', 'now', '.', 'So', 'this', 'is', 'my', 'outlook', '.', 'I', 'have', 'few', 'team', 'members', 'who', 'are', 'sitting', 'right', 'here', '.', 'It', 'has', 'been', 'made', 'mandatory', 'for', 'them', 'to', 'sit', 'here', 'and', 'to', 'attend', 'the', 'session', '.', 'Otherwise', 'it', 'would', 'have', 'had', 'an', 'impact', 'on', 'their', 'salary', 'payments', '.', 'So', 'now', 'they', 'are', 'here', 'very', 'much', 'attentive', 'let', 'me', 'ask', 'them', 'as', 'well', '.', 'What', 'is', 'their', 'take', 'on', 'money', 'management', '?', 'So', 'what', 'do', 'you', 'feel', 'is', 'money', 'management', 'important', '?', 'Yes', '.', 'What', 'have', 'you', 'taught', 'about', 'that', 'at', 'school', '?', 'No', '.', 'And', 'do', 'you', 'feel', 'that', 'it', 'should', 'have', 'been', 'taught', 'at', 'school', 'level', '?', 'Yes', '.', 'Now', 'do', 'you', 'feel', 'that', 'this', 'is', 'the', 'problem', 'about', 'just', 'my', 'city', ',', 'Pune', '?', 'No', '.', 'Is', 'it', 'only', 'about', 'Maharashtra', '?', 'No', '.', 'Is', 'it', 'only', 'about', 'India', '?', 'For', 'that', '?', 'I', 'had', 'been', 'to', 'Dubai', 'recently', 'and', 'I', 'thought', 'of', 'asking', 'this', 'same', 'question', 'to', 'people', 'from', 'different', 'countries', '.', 'I', 'was', 'lucky', 'to', 'deliver', 'a', 'session', 'where', 'students', 'from', 'more', 'than', '20', 'countries', 'attended', 'my', 'session', '.', 'And', 'in', 'the', 'small', 'clip', ',', 'you', 'can', 'see', 'people', 'from', 'almost', 'six', 'or', 'seven', 'different', 'countries', '.', 'And', 'let', 'us', 'hear', 'their', 'views', 'on', 'where', 'they', 'taught', 'about', 'money', 'management', 'skills', 'at', 'school', 'or', 'not', '.', 'Which', 'country', 'are', 'you', 'from', '?', 'The', 'state', '?', 'I', \"'m\", 'originally', 'from', 'Palestine', ',', 'but', 'I', 'live', 'in', 'the', 'UAE', '.', 'Okay', '.', 'How', 'about', 'you', '?', 'Okay', '.', 'Were', 'you', 'talking', 'about', 'finances', 'in', 'schools', '?', 'Not', 'that', 'much', '.', 'Not', 'much', '?', 'No', '.', 'What', 'was', 'that', '?', 'One', 'by', 'one', 'by', 'one', 'two', '.', 'One', 'by', 'one', 'two', '.', 'That', \"'s\", 'it', '.', 'Okay', '.', 'Not', 'at', 'all', '?', 'No', '.', 'This', 'is', 'the', 'collective', 'answer', '.', 'Do', 'you', 'feel', 'teaching', 'finances', 'at', 'school', 'is', 'very', 'important', '?', 'Yes', '.', 'Collective', 'answer', '.', 'Okay', '.', 'Who', 'controls', 'the', 'financing', 'investing', 'district', '?', 'For', 'you', '?', 'For', 'myself', '.', 'It', \"'s\", 'me', '.', 'Wow', '.', 'That', \"'s\", 'okay', '.', 'It', \"'s\", 'me', '.', 'But', 'I', \"'ll\", 'make', 'a', 'mistake', '.', 'Okay', '.', 'Question', 'for', 'all', 'of', 'this', 'is', 'that', 'if', 'you', 'have', 'an', 'insurance', ',', 'how', 'much', 'times', 'of', 'your', 'income', 'are', 'you', 'charged', '?', 'I', \"'m\", 'not', 'sure', '.', '10', '%', 'of', 'your', 'income', '?', 'Actually', ',', 'I', 'do', \"n't\", 'invest', 'in', 'insurance', '.', 'You', 'should', 'watch', 'my', 'channel', '.', 'So', 'I', \"'m\", 'a', 'creator', 'trying', 'to', 'make', 'more', 'money', '.', 'But', 'I', 'already', 'have', 'an', 'insurance', 'coverage', 'and', 'it', 'was', 'ten', 'times', 'my', 'income', 'at', 'the', 'time', '.', 'Ten', 'times', '?', 'I', 'have', 'like', 'three', 'calories', '.', 'So', 'in', 'case', ',', 'like', ',', 'I', 'do', \"n't\", 'have', 'a', 'job', ',', 'I', 'have', 'like', 'three', 'calories', '.', 'I', 'also', 'have', 'life', 'insurance', '.', 'Okay', '?', 'Yeah', ',', 'I', 'also', 'have', 'life', 'insurance', '.', 'But', 'I', 'took', 'that', 'insurance', 'during', 'pandemic', 'time', 'because', 'I', \"'m\", 'so', 'scared', 'of', 'the', 'sun', 'that', 'I', 'wanted', 'to', '.', 'Well', ',', 'after', 'having', 'a', 'look', 'at', 'this', 'clip', ',', 'I', 'hope', 'you', 'understood', 'that', 'it', \"'s\", 'not', 'only', 'about', 'India', 'that', 'money', 'management', 'is', 'not', 'taught', 'at', 'school', '.', 'But', 'unfortunately', ',', 'it', \"'s\", 'across', 'the', 'globe', 'that', 'this', 'important', 'skill', 'of', 'money', 'management', 'is', 'not', 'taught', '.', 'But', 'it', \"'s\", 'never', 'too', 'late', '.', 'It', \"'s\", 'a', 'saying', 'in', 'Hindi', 'as', 'well', '.', 'So', 'I', 'think', 'this', 'is', 'the', 'right', 'time', 'to', 'start', 'acquiring', 'this', 'skill', 'and', 'to', 'learn', 'managing', 'your', 'money', 'in', 'a', 'better', 'way', '.', 'Now', ',', 'I', 'want', 'you', 'all', 'to', 'answer', 'this', 'question', 'again', '.', 'Have', 'a', 'look', 'at', 'this', 'image', '.', 'And', 'do', 'you', 'know', 'this', 'person', '?', 'Who', 'is', 'he', '?', 'Any', 'idea', '?', 'Sushil', 'Kumar', '.', 'Sushil', 'Kumar', '.', 'Sahi', 'Java', 'five', 'kara', 'Shunirupe', ',', 'I', 'say', 'question', '.', 'Okay', '.', 'So', 'this', 'picture', 'is', 'of', 'Sushil', 'Kumar', 'and', 'he', 'had', 'won', 'five', 'crores', 'at', 'KBC', '.', 'Now', ',', 'what', 'do', 'you', 'feel', 'today', '?', 'He', 'might', 'be', 'like', 'a', 'super', 'duper', 'rich', 'person', '.', 'A', 'five', 'crore', 'is', 'a', 'huge', 'amount', ',', 'right', '?', 'But', 'just', 'for', 'you', 'all', ',', 'this', 'person', 'today', 'is', 'bankrupt', '.', 'So', 'it', \"'s\", 'not', 'about', 'only', 'how', 'much', 'you', 'earn', '.', 'I', 'think', 'equal', 'importance', 'is', 'about', 'how', 'do', 'you', 'save', ',', 'how', 'do', 'you', 'manage', 'and', 'how', 'do', 'you', 'invest', 'that', 'money', '.', 'Okay', '.', 'Is', 'there', 'only', 'one', 'example', '?', 'I', 'think', 'there', 'are', 'a', 'lot', 'of', 'examples', 'in', 'some', 'films', 'as', 'well', '.', 'I', 'would', 'want', 'to', 'quote', 'an', 'example', 'from', 'a', 'Marathi', 'film', '.', 'It', \"'s\", 'okay', 'even', 'if', 'you', 'have', 'not', 'seen', 'that', 'film', '.', 'But', 'it', \"'s\", 'a', 'very', 'amazing', 'film', '.', 'And', 'the', 'name', 'of', 'the', 'film', 'is', 'Mulshi', 'Patern', '.', 'This', 'film', 'portrays', 'the', 'story', 'of', 'a', 'farmer', 'who', 'sells', 'off', 'his', 'land', ',', 'agricultural', 'land', '.', 'Gets', 'a', 'lot', 'of', 'money', 'as', 'a', 'lump', 'sum', 'money', '.', 'But', 'unfortunately', ',', 'he', 'does', \"n't\", 'know', 'what', 'is', 'to', 'be', 'done', 'with', 'such', 'a', 'huge', 'amount', 'of', 'money', '.', 'What', 'he', 'does', 'is', 'that', 'he', 'weds', 'off', 'his', 'daughters', ',', 'spends', 'a', 'lot', 'of', 'money', 'there', '.', 'He', 'buys', 'some', 'luxurious', 'cars', 'to', 'spend', 'whatever', 'money', 'is', 'remaining', 'with', 'him', 'at', 'one', 'point', 'of', 'time', '.', 'What', 'happens', 'is', 'that', 'he', 'does', \"n't\", 'have', 'even', 'that', 'much', 'money', 'that', 'he', 'can', 'fill', 'up', 'the', 'petrol', 'tanks', 'in', 'that', 'car', '.', 'So', 'then', 'it', 'has', 'shown', 'that', 'his', 'wife', 'is', 'just', 'using', 'that', 'car', 'to', 'dry', 'clothes', 'and', 'dry', 'utensils', 'and', 'whatnot', '.', 'So', 'this', 'can', 'be', 'the', 'story', 'of', 'a', 'person', 'who', 'earns', 'a', 'lot', 'but', 'who', 'does', \"n't\", 'know', 'how', 'to', 'manage', 'the', 'money', '.', 'So', 'I', 'hope', 'everyone', 'has', 'understood', 'the', 'importance', 'of', 'money', 'management', 'as', 'well', '.', 'Yes', '.', 'So', 'can', 'I', 'say', 'same', 'weight', ',', 'same', 'importance', 'to', 'both', 'only', 'earning', 'money', '?', 'No', ',', 'it', \"'s\", 'about', 'earning', 'money', 'as', 'well', 'as', 'managing', 'the', 'money', 'as', 'well', '.', 'Now', 'that', 'you', 'have', 'understood', 'the', 'importance', ',', 'the', 'next', 'question', 'is', 'that', 'this', 'course', 'should', 'be', 'seen', '.', 'By', 'whom', 'do', 'you', 'think', 'only', 'students', 'should', 'do', 'this', 'course', '?', 'No', ',', 'homemakers', '.', 'Homemakers', 'should', 'see', 'this', 'as', 'well', '.', 'People', 'who', 'are', 'doing', 'business', 'profession', '?', 'Yes', '.', 'Salaried', 'people', '.', 'Anyone', 'and', 'everyone', '.', 'Yes', '.', 'Because', 'everyone', 'loves', 'to', 'earn', 'money', '.', 'Now', 'in', 'this', 'course', 'we', 'are', 'going', 'to', 'understand', 'how', 'to', 'master', 'your', 'money', '.', 'Well', ',', 'now', 'that', 'you', 'have', 'understood', 'the', 'importance', 'of', 'this', 'course', 'now', 'let', 'us', 'get', 'started', 'and', 'let', 'us', 'try', 'and', 'understand', 'what', 'are', 'the', 'various', 'steps', 'in', 'your', 'money', 'management', 'skills', '.', 'The', 'very', 'first', 'step', 'is', 'okay', ',', 'let', 'me', 'keep', 'this', 'as', 'a', 'suspense', 'and', 'let', 'me', 'give', 'you', 'an', 'example', 'and', 'see', 'whether', 'you', 'are', 'able', 'to', 'get', 'the', 'very', 'first', 'step', 'by', 'yourself', 'or', 'not', '.', 'Let', \"'s\", 'take', 'the', 'example', 'of', 'Sonal', 'and', 'Monal', '.', 'Here', 'are', 'two', 'friends', ',', 'sonal', 'and', 'Monal', '.', 'Both', 'have', 'just', 'graduated', 'from', 'college', 'and', 'have', 'started', 'working', 'in', 'a', 'company', '.', 'Both', 'are', 'earning', 'the', 'same', 'salary', 'of', 'Rs25,000', '.', 'Both', 'being', 'very', 'good', 'friends', 'decided', 'that', 'come', 'what', 'may', 'we', 'both', 'are', 'going', 'to', 'save', 'Rs10,000', 'each', 'every', 'single', 'month', '.', 'Now', 'what', 'they', 'had', 'not', 'decided', 'was', 'where', 'are', 'they', 'going', 'to', 'park', 'these', 'funds', '?', 'Sonal', 'decided', 'to', 'keep', 'these', 'Rs10,000', 'in', 'her', 'savings', 'bank', 'account', 'whereas', 'Monal', 'decided', 'to', 'make', 'four', 'parts', 'of', 'these', 'Rs10,000.01', '.', 'Part', 'of', 'Rs2500', 'was', 'invested', 'in', 'mutual', 'funds', '.', 'One', 'in', 'a', 'PPF', 'account', ',', 'the', 'third', 'in', 'equity', 'shares', 'and', 'the', 'fourth', 'in', 'bonds', '.', 'At', 'the', 'end', 'of', 'the', 'year', ',', 'Sonal', 'had', 'earned', 'barely', 'around', '4', '%', 'return', 'as', 'she', 'was', 'just', 'parking', 'the', 'funds', 'in', 'the', 'saving', 'account', '.', 'Whereas', 'Monell', 'got', 'a', 'return', 'of', 'almost', '10', '%', 'because', 'she', 'had', 'parked', 'her', 'funds', 'in', 'various', 'investment', 'assets', '.', 'Now', 'what', 'do', 'you', 'think', ',', 'Sonal', '?', 'One', 'or', 'Monal', '?', 'What', 'are', 'your', 'thoughts', '?', 'Monal', ',', 'everyone', '?', 'Monal', '?', 'Yes', ',', 'but', 'Monal', 'is', 'where', 'have', 'I', 'given', 'the', 'correct', 'answer', '?', 'Let', 'me', 'give', 'you', 'a', 'twist', 'in', 'the', 'story', '.', 'Now', 'there', 'was', 'some', 'contingency', 'and', 'have', 'a', 'look', 'at', 'the', 'faces', 'of', 'Sonal', 'and', 'Monal', '.', 'Again', ',', 'both', 'seem', 'to', 'be', 'a', 'little', 'bit', 'worried', '.', 'And', 'Sonal', 'is', 'a', 'little', 'bit', 'less', 'worried', 'maybe', '.', 'Because', 'now', 'I', \"'m\", 'going', 'to', 'tell', 'you', 'exactly', 'what', 'had', 'happened', '.', 'There', 'was', 'a', 'contingency', 'because', 'of', 'which', 'both', 'needed', 'Rs25,000', 'at', 'one', 'shot', '.', 'Now', 'what', 'do', 'you', 'think', '?', 'Sonal', 'might', 'have', 'been', 'in', 'a', 'position', 'to', 'get', 'that', 'Rs25,000', 'just', 'like', 'that', 'quickly', '.', 'Yes', 'or', 'no', '?', 'Yes', '.', 'And', 'what', 'about', 'Monal', '?', 'She', 'would', 'need', 'some', 'time', 'to', 'withdraw', 'the', 'money', '.', 'She', 'would', 'need', 'some', 'time', 'to', 'withdraw', 'the', 'money', '.', 'Why', '?', 'Because', 'she', 'is', 'parked', 'in', 'different', 'asset', 'classes', 'like', 'equity', 'shares', '.', 'It', 'will', 'take', 'two', 'trading', 'days', '.', 'Correct', '?', 'Correct', '.', 'CM', '.', 'Adam', 'is', 'right', 'on', 'her', 'toes', '.', 'Because', 'she', 'knows', 'that', 'for', 'equity', 'if', 'you', 'were', 'to', 'sell', 'the', 'shares', 'it', 'takes', 'at', 'least', 'two', 'days', 'to', 'get', 'the', 'money', 'in', 'your', 'bank', 'account', '.', 'It', 'is', 'called', 'as', 'a', 'T', 'plus', 'two', 'settlement', '.', 'Okay', '?', 'T', 'means', 'trade', '.', 'Whenever', 'you', 'did', 'the', 'trade', 'trade', 'of', 'selling', 'the', 'shares', 'and', 'how', 'many', 'days', 'plus', 'two', ',', 'that', 'is', 'the', 'minimum', 'amount', '.', 'I', 'mean', ',', 'that', 'is', 'the', 'number', 'of', 'days', 'basically', 'after', 'which', 'you', 'will', 'get', 'the', 'money', '.', 'So', 'that', 'was', 'the', 'reason', 'why', 'as', 'far', 'as', 'the', 'liquidity', 'was', 'concerned', 'liquidity', 'means', 'what', '?', 'When', 'do', 'you', 'get', 'your', 'money', '?', 'Are', 'you', 'able', 'to', 'convert', 'your', 'investments', 'into', 'cash', 'quickly', 'or', 'not', '?', 'So', 'for', 'that', ',', 'Monal', 'was', 'facing', 'a', 'problem', '.', 'So', 'now', 'do', 'you', 'think', 'that', 'if', 'a', 'contingency', 'were', 'to', 'arise', ',', 'who', 'is', 'the', 'winner', '?', 'Is', 'it', 'Sonal', 'or', 'is', 'it', 'Monal', '?', 'Sonal', '.', 'But', 'still', 'I', 'have', 'not', 'given', 'my', 'answer', '.', 'Now', 'I', \"'ll\", 'tell', 'you', 'one', 'more', 'point', 'to', 'this', 'whole', 'story', ',', 'okay', '?', 'Now', 'if', 'I', 'were', 'to', 'ask', 'about', 'Sonal', 'sonal', 'was', 'keeping', 'the', 'entire', 'money', 'in', 'her', 'saving', 'account', '.', 'Now', 'what', 'do', 'you', 'think', '?', 'Was', 'it', 'wise', 'enough', 'for', 'her', 'to', 'keep', 'the', 'whole', 'money', 'in', 'the', 'saving', 'account', 'so', 'that', 'she', 'can', 'meet', 'any', 'emergency', 'that', 'she', 'would', 'have', 'faced', '?', 'Or', 'should', 'there', 'have', 'been', 'a', 'cap', 'on', 'how', 'much', 'amount', 'that', 'should', 'have', 'been', 'parked', 'in', 'the', 'saving', 'account', '.', 'There', 'should', 'have', 'been', 'a', 'cap', 'to', 'that', '.', 'That', 'is', 'the', 'very', 'first', 'step', 'in', 'our', 'entire', 'money', 'management', 'journey', 'which', 'is', 'about', 'understanding', 'how', 'much', 'money', 'should', 'you', 'have', 'in', 'your', 'saving', 'account', 'or', 'in', 'a', 'place', 'where', 'you', 'can', 'get', 'your', 'money', '.', 'Just', 'like', 'that', '.', 'Okay', '?', 'So', 'that', 'concept', 'is', 'called', 'as', 'the', 'concept', 'of', 'emergency', 'funds', '.', 'If', 'you', 'can', 'repeat', 'with', 'me', ',', 'it', 'is', 'known', 'as', 'emergency', 'funds', '.', 'So', 'let', 'us', 'take', 'a', 'quick', 'example', 'and', 'understand', '.', 'How', 'do', 'you', 'calculate', 'the', 'amount', 'of', 'emergency', 'funds', '?', 'Now', ',', 'here', 'is', 'an', 'Excel', 'Sheet', 'which', 'can', 'help', 'you', 'to', 'calculate', 'how', 'much', 'emergency', 'funds', 'should', 'you', 'have', 'that', 'you', 'can', 'access', 'at', 'any', 'point', 'in', 'time', ',', 'right', '?', 'So', 'you', 'have', 'to', 'just', 'list', 'down', 'all', 'those', 'committed', 'or', 'necessary', 'monthly', 'expenses', '.', 'What', 'is', 'the', 'word', 'here', '?', 'Necessary', 'monthly', 'expenses', '.', 'So', 'basically', ',', 'you', \"'re\", 'not', 'going', 'to', 'say', ',', 'I', 'want', 'these', 'many', 'funds', 'for', 'party', '.', 'That', \"'s\", 'a', 'necessary', 'expense', '.', 'That', \"'s\", 'not', 'going', 'to', 'happen', ',', 'right', '?', 'So', 'what', 'could', 'be', 'the', 'necessary', 'expenses', '?', 'Possibility', 'number', 'one', 'rent', 'or', 'EMI', '.', 'Let', 'us', 'put', 'this', 'as', 'zero', 'only', 'because', 'what', 'was', 'the', 'example', 'that', 'we', 'were', 'taking', '?', 'We', 'were', 'talking', 'about', 'a', 'case', 'where', 'Beet', 'Sonal', 'or', 'Beat', 'Monell', 'both', 'have', 'just', 'graduated', '.', 'Assume', 'that', 'they', 'are', 'staying', 'with', 'their', 'parents', ',', 'right', '?', 'And', 'because', 'they', 'are', 'staying', 'with', 'their', 'parents', ',', 'they', 'are', 'not', 'going', 'to', 'pay', 'rent', 'to', 'them', '.', 'They', 'are', 'not', 'also', 'going', 'to', 'pay', 'for', 'the', 'groceries', 'or', 'milk', 'or', 'whatever', '.', 'So', 'let', \"'s\", 'see', 'what', 'could', 'be', 'the', 'possible', 'expenses', '.', 'No', 'EMI', 'insurance', 'premium', '.', 'Let', \"'s\", 'take', 'she', 'is', 'paying', 'an', 'insurance', 'premium', 'of', 'RS2000', '.', 'Electricity', 'bill', ',', 'gas', 'bill', '.', 'She', \"'s\", 'going', 'to', 'push', 'it', 'to', 'her', 'parents', '.', 'I', \"'m\", 'sure', 'about', 'that', '.', 'Then', 'let', 'us', 'say', 'petrol', ',', 'diesel', 'expenses', ',', 'another', 'RS2000', ',', 'groceries', 'bill', ',', 'nothing', '.', 'Internet', ',', 'phone', 'bill', '.', 'Let', \"'s\", 'take', 'Rs1000', 'and', 'tuition', 'fee', '.', 'Nothing', '.', 'Other', 'necessary', 'expenses', '?', 'Nothing', '.', 'Okay', ',', 'quickly', 'tell', 'me', ',', 'how', 'much', 'is', 'her', 'monthly', 'committed', 'expenditure', '?', '$', '5,000', '.', 'Sleeping', 'maximum', 'expenditure', 'for', 'her', 'is', '$', '5,000', '.', 'Now', ',', 'if', 'you', 'see', 'here', 'at', 'the', 'end', ',', 'you', 'can', 'see', 'emergency', 'funds', 'to', 'be', 'kept', 'in', 'cash', 'or', 'saving', 'account', 'or', 'in', 'an', 'FD', 'is', 'how', 'much', '?', '30,000', '.', 'So', ',', 'basic', 'math', '?', '5000', '.', 'I', \"'ve\", 'given', 'a', 'multiplier', 'of', 'six', '.', 'Okay', '.', 'Now', 'why', 'is', 'this', '?', 'So', ',', 'as', 'per', 'the', 'basics', 'of', 'money', 'management', ',', 'six', 'months', 'of', 'your', 'monthly', 'committed', 'expenses', 'should', 'be', 'kept', 'at', 'a', 'place', 'from', 'where', 'you', 'can', 'quickly', 'access', 'that', 'money', '.', 'Can', 'you', 'quickly', 'access', 'the', 'money', 'if', 'you', 'have', 'kept', 'it', 'as', 'cash', 'in', 'your', 'locker', '?', 'Yes', '.', 'In', 'your', 'saving', 'account', '?', 'Yes', '.', 'What', 'about', 'an', 'FD', '?', 'Can', 'you', 'premature', 'the', 'FD', 'and', 'get', 'the', 'money', 'just', 'like', 'that', '?', 'Yes', ',', 'of', 'course', '.', 'Why', 'not', '?', 'You', 'will', 'be', 'levied', 'some', 'penalty', 'or', 'some', 'penal', 'interest', '.', 'That', 'is', 'okay', '.', 'But', 'you', \"'ll\", 'still', 'be', 'able', 'to', 'quickly', 'access', 'that', 'money', ',', 'right', '?', 'So', '30,000', 'should', 'have', 'been', 'kept', 'by', 'Sonal', 'in', 'her', 'savings', 'account', '.', 'Well', ',', 'now', ',', 'I', 'hope', 'you', 'have', 'understood', 'the', 'Excel', 'sheet', 'calculation', '.', 'And', 'now', 'comes', 'a', 'quick', 'question', 'for', 'you', 'all', '.', 'Can', 'you', 'recall', 'how', 'much', 'money', 'had', 'Sonal', 'kept', 'in', 'her', 'savings', 'account', '?', 'If', 'you', 'remember', ',', 'she', 'was', 'saving', 'Rs10,000', 'per', 'month', 'and', 'she', 'was', 'saving', 'that', 'for', 'twelve', 'months', '.', 'Zorg', 'boulke', '.', 'One', 'lakh', '20,000', '.', 'Perfect', '.', 'If', 'you', 'speak', 'slowly', 'or', 'in', 'a', 'very', 'low', 'voice', ',', '10', '%', 'salary', 'gone', '.', 'Okay', '.', 'Control', '.', 'Control', '.', 'Okay', '.', 'So', 'one', 'lakh', '20,000', 'was', 'the', 'balance', 'that', 'Sonal', 'had', 'kept', 'in', 'her', 'saving', 'account', ',', 'right', '?', 'How', 'much', 'should', 'have', 'been', 'kept', 'by', 'her', '?', '30,000', '.', 'So', 'how', 'much', 'excess', 'was', 'she', 'keeping', 'in', 'her', 'saving', 'account', '?', 'That', 'was', 'Rs90,000', '.', 'Now', 'tell', 'me', ',', 'what', 'is', 'the', 'problem', 'in', 'having', '90,000', 'extra', 'in', 'your', 'saving', 'account', '?', 'Is', 'there', 'any', 'problem', '?', 'Less', 'returns', '.', 'Less', 'returns', '.', 'So', 'basically', ',', 'can', 'I', 'say', 'she', 'lost', 'the', 'opportunity', 'to', 'earn', 'more', 'by', 'parking', 'these', 'funds', 'in', 'different', 'asset', 'classes', '?', 'Absolutely', '.', 'Yes', '.', 'So', 'now', 'again', 'comes', 'the', 'same', 'question', '.', 'Who', 'won', '?', 'Did', 'Sonal', 'win', '?', 'No', '.', 'Did', 'Monal', 'win', '?', 'No', '.', 'None', 'of', 'them', 'won', '.', 'Because', 'none', 'of', 'them', 'had', 'done', 'my', 'course', 'on', 'mastering', 'money', 'management', '.', 'Now', 'that', 'you', 'all', 'know', ',', 'I', 'hope', 'you', 'all', 'will', 'not', 'make', 'the', 'same', 'mistake', 'that', 'Sonal', 'did', 'or', 'Monell', 'did', 'so', 'quickly', 'tell', 'me', ',', 'what', 'should', 'you', 'all', 'be', 'doing', '?', 'It', \"'s\", 'your', 'homework', 'today', '.', 'By', 'the', 'way', ',', 'your', 'first', 'step', 'in', 'your', 'money', 'management', 'journey', '.', 'Number', 'one', ',', 'you', 'have', 'to', 'calculate', 'what', 'is', 'the', 'amount', 'of', 'monthly', 'emergency', 'funds', 'or', 'monthly', 'committed', 'expenses', '?', 'Basically', ',', 'that', 'is', 'what', 'you', 'have', 'to', 'calculate', '.', 'And', 'how', 'are', 'you', 'going', 'to', 'calculate', 'that', 'you', 'have', 'the', 'Excel', 'Sheet', '?', 'Now', ',', 'if', 'you', 'are', 'watching', 'this', 'online', ',', 'where', 'are', 'you', 'going', 'to', 'find', 'the', 'Excel', 'Sheet', '?', 'That', 'is', 'where', 'in', 'the', 'courses', 'section', 'itself', ',', 'you', 'are', 'going', 'to', 'find', 'the', 'Excel', 'Sheet', '.', 'Okay', '.', 'You', 'have', 'to', 'download', 'this', 'Excel', 'sheet', '.', 'After', 'downloading', 'fill', 'up', ',', 'what', 'are', 'your', 'committed', 'expenses', '?', 'Multiplier', 'of', 'sixes', 'automatically', 'given', 'in', 'our', 'Excel', 'Sheet', 'formula', 'is', 'very', 'much', 'there', '.', 'And', 'that', 'much', 'money', 'should', 'be', 'kept', 'in', 'your', 'saving', 'account', '.', 'If', 'there', 'has', 'anything', 'over', 'and', 'above', 'that', ',', 'you', 'can', 'definitely', 'think', 'about', 'parking', 'these', 'funds', 'in', 'other', 'investment', 'asset', 'classes', '.', 'I', 'hope', 'everything', 'is', 'clear', 'to', 'hear', 'any', 'doubt', '.', 'Perish', '.', 'But', 'what', 'happened', 'to', 'Sonal', '?', 'What', 'was', 'her', 'emergency', '?', 'Men', 'will', 'be', 'men', '.', 'Here', 'we', 'are', 'learning', 'about', 'money', 'management', 'and', 'he', 'is', 'thinking', 'about', 'what', 'happened', 'to', 'Sonal', '.', 'What', 'was', 'the', 'contingency', 'that', 'she', 'faced', '?', 'Okay', ',', 'let', \"'s\", 'understand', 'about', 'what', 'happened', 'with', 'Sonal', 'when', 'we', 'discuss', 'the', 'second', 'step', 'of', 'money', 'management', '.']\n"
     ]
    }
   ],
   "source": [
    "tokens = [token.text for token in doc]\n",
    "print(tokens)"
   ]
  },
  {
   "cell_type": "code",
   "execution_count": 10,
   "metadata": {},
   "outputs": [
    {
     "data": {
      "text/plain": [
       "'!\"#$%&\\'()*+,-./:;<=>?@[\\\\]^_`{|}~\\n'"
      ]
     },
     "execution_count": 10,
     "metadata": {},
     "output_type": "execute_result"
    }
   ],
   "source": [
    "punctuation = punctuation + '\\n'\n",
    "punctuation"
   ]
  },
  {
   "cell_type": "code",
   "execution_count": 11,
   "metadata": {},
   "outputs": [
    {
     "name": "stdout",
     "output_type": "stream",
     "text": [
      "{'Hey': 1, 'folks': 2, 'Rachana': 1, 'Ranadi': 1, 'happy': 2, 'announce': 1, 'launch': 1, 'new': 1, 'course': 22, 'Mastering': 1, 'Money': 1, 'Management': 1, 'talked': 2, 'seven': 2, 'steps': 2, 'master': 5, 'money': 49, 'sure': 5, 'question': 7, 'mind': 2, 'different': 5, 'original': 2, 'personal': 2, 'financial': 1, 'management': 17, 'answer': 6, 'yes': 1, 'barely': 2, '15': 1, 'minutes': 2, 'mastering': 2, '5': 1, 'hours': 1, '45': 1, 'times': 4, 'previous': 1, 'duration': 1, 'elaborate': 1, 'examples': 2, 'fun': 2, 'obviously': 1, 'lot': 9, 'special': 2, 'taxation': 3, 'hacks': 1, 'told': 1, 'certain': 2, 'tips': 2, 'tricks': 2, 'legal': 1, 'save': 5, 'RS5000': 1, 'tax': 2, 'year': 2, 'period': 1, 'years': 1, 'able': 5, 'mean': 2, 'lacks': 1, 'rupees': 2, 'discussed': 3, 'plan': 4, 'points': 2, 'kept': 9, 'draft': 2, 'necessary': 5, 'retirement': 1, 'fund': 1, 'crore': 2, 'house': 1, 'car': 3, 'thoroughly': 1, 'enjoyed': 1, 'shooting': 1, 'watch': 2, 'definitely': 2, 'feel': 8, 'oh': 1, 'God': 1, 'learned': 1, 'absolute': 1, 'celebrate': 1, 'Republic': 1, 'Day': 1, 'tell': 6, 'launching': 1, 'introductory': 1, 'offer': 1, 'price': 1, 'forget': 1, 'check': 1, 'website': 1, 'rachanaranadaycom': 1, 'enroll': 1, 'life': 4, 'sneak': 1, 'peek': 1, 'hey': 1, 'c': 1, 'rachana': 1, 'Ranai': 1, 'welcome': 1, 'important': 5, 'school': 7, 'level': 3, 'taught': 7, 'concepts': 1, 'time': 8, 'felt': 1, 'secure': 1, 'marks': 1, 'great': 1, 'impact': 2, 'daily': 1, 'routines': 1, 'simple': 1, 'example': 7, 'remember': 2, 'learning': 2, 'heart': 1, 'French': 2, 'Revolution': 2, 'date': 1, 'till': 1, 'today': 4, 'related': 1, 'day': 2, 'power': 1, 'compounding': 1, 'planning': 1, 'mutual': 2, 'funds': 14, 'stock': 1, 'market': 1, 'basic': 2, 'better': 2, 'managers': 1, 'outlook': 1, 'team': 1, 'members': 1, 'sitting': 1, 'right': 9, 'mandatory': 1, 'sit': 1, 'attend': 1, 'session': 3, 'salary': 3, 'payments': 1, 'attentive': 1, 'let': 10, 'ask': 2, 'Yes': 13, 'problem': 4, 'city': 1, 'Pune': 1, 'Maharashtra': 1, 'India': 2, 'Dubai': 1, 'recently': 1, 'thought': 1, 'asking': 1, 'people': 3, 'countries': 3, 'lucky': 1, 'deliver': 1, 'students': 2, '20': 1, 'attended': 1, 'small': 1, 'clip': 2, 'hear': 2, 'views': 1, 'skills': 2, 'country': 1, 'state': 1, 'originally': 1, 'Palestine': 1, 'live': 1, 'UAE': 1, 'Okay': 16, 'talking': 2, 'finances': 2, 'schools': 1, 'collective': 1, 'teaching': 1, 'Collective': 1, 'controls': 1, 'financing': 1, 'investing': 1, 'district': 1, 'Wow': 1, 'okay': 5, 'mistake': 2, 'Question': 1, 'insurance': 8, 'income': 3, 'charged': 1, '10': 3, 'Actually': 1, 'invest': 2, 'channel': 1, 'creator': 1, 'trying': 1, 'coverage': 1, 'like': 8, 'calories': 2, 'case': 2, 'job': 1, 'Yeah': 1, 'took': 1, 'pandemic': 1, 'scared': 1, 'sun': 1, 'wanted': 1, 'having': 2, 'look': 3, 'hope': 5, 'understood': 5, 'unfortunately': 2, 'globe': 1, 'skill': 2, 'late': 1, 'saying': 1, 'Hindi': 1, 'think': 9, 'start': 1, 'acquiring': 1, 'learn': 1, 'managing': 2, 'way': 2, 'want': 3, 'image': 1, 'know': 4, 'person': 4, 'idea': 1, 'Sushil': 3, 'Kumar': 3, 'Sahi': 1, 'Java': 1, 'kara': 1, 'Shunirupe': 1, 'picture': 1, 'won': 3, 'crores': 1, 'KBC': 1, 'super': 1, 'duper': 1, 'rich': 1, 'huge': 2, 'bankrupt': 1, 'earn': 3, 'equal': 1, 'importance': 5, 'manage': 2, 'films': 1, 'quote': 1, 'Marathi': 1, 'film': 5, 'seen': 2, 'amazing': 1, 'Mulshi': 1, 'Patern': 1, 'portrays': 1, 'story': 4, 'farmer': 1, 'sells': 1, 'land': 2, 'agricultural': 1, 'Gets': 1, 'lump': 1, 'sum': 1, 'weds': 1, 'daughters': 1, 'spends': 1, 'buys': 1, 'luxurious': 1, 'cars': 1, 'spend': 1, 'remaining': 1, 'point': 3, 'happens': 1, 'fill': 2, 'petrol': 2, 'tanks': 1, 'shown': 1, 'wife': 1, 'dry': 2, 'clothes': 1, 'utensils': 1, 'whatnot': 1, 'earns': 1, 'weight': 1, 'earning': 3, 'homemakers': 1, 'Homemakers': 1, 'People': 1, 'business': 1, 'profession': 1, 'Salaried': 1, 'loves': 1, 'going': 12, 'understand': 4, 'started': 2, 'try': 1, 'step': 5, 'suspense': 1, 'Let': 5, 'Sonal': 19, 'Monal': 12, 'friends': 2, 'sonal': 2, 'graduated': 2, 'college': 1, 'working': 1, 'company': 1, 'Rs25,000': 3, 'good': 1, 'decided': 4, 'come': 1, 'Rs10,000': 3, 'single': 1, 'month': 2, 'park': 1, 'savings': 3, 'bank': 2, 'account': 16, 'parts': 1, 'Rs10,000.01': 1, 'Rs2500': 1, 'invested': 1, 'PPF': 1, 'equity': 3, 'shares': 4, 'fourth': 1, 'bonds': 1, 'end': 2, 'earned': 1, '4': 1, 'return': 2, 'parking': 3, 'saving': 13, 'Monell': 3, 'got': 1, 'parked': 3, 'investment': 2, 'assets': 1, 'thoughts': 1, 'given': 4, 'correct': 1, 'twist': 1, 'contingency': 4, 'faces': 1, 'little': 2, 'bit': 2, 'worried': 2, 'maybe': 1, 'exactly': 1, 'happened': 4, 'needed': 1, 'shot': 1, 'position': 1, 'quickly': 7, 'need': 2, 'withdraw': 2, 'asset': 3, 'classes': 3, 'trading': 1, 'days': 4, 'Correct': 2, 'CM': 1, 'Adam': 1, 'toes': 1, 'knows': 1, 'sell': 1, 'takes': 1, 'called': 2, 'T': 2, 'plus': 2, 'settlement': 1, 'means': 2, 'trade': 3, 'selling': 1, 'minimum': 1, 'number': 2, 'basically': 3, 'reason': 1, 'far': 1, 'liquidity': 2, 'concerned': 1, 'convert': 1, 'investments': 1, 'cash': 3, 'facing': 1, 'arise': 1, 'winner': 1, 'keeping': 2, 'entire': 2, 'wise': 1, 'meet': 1, 'emergency': 8, 'faced': 2, 'cap': 2, 'journey': 2, 'understanding': 1, 'place': 2, 'concept': 2, 'repeat': 1, 'known': 1, 'quick': 2, 'calculate': 5, 'Excel': 7, 'Sheet': 5, 'help': 1, 'access': 4, 'list': 1, 'committed': 5, 'monthly': 6, 'expenses': 9, 'word': 1, 'Necessary': 1, 'party': 1, 'expense': 1, 'happen': 1, 'Possibility': 1, 'rent': 2, 'EMI': 2, 'zero': 1, 'taking': 1, 'Beet': 1, 'Beat': 1, 'Assume': 1, 'staying': 2, 'parents': 3, 'pay': 2, 'groceries': 2, 'milk': 1, 'possible': 1, 'premium': 2, 'paying': 1, 'RS2000': 2, 'Electricity': 1, 'bill': 4, 'gas': 1, 'push': 1, 'diesel': 1, 'Internet': 1, 'phone': 1, 'Rs1000': 1, 'tuition': 1, 'fee': 1, 'expenditure': 2, '5,000': 2, 'Sleeping': 1, 'maximum': 1, 'FD': 3, '30,000': 3, 'math': 1, '5000': 1, 'multiplier': 1, 'basics': 1, 'months': 2, 'locker': 1, 'premature': 1, 'levied': 1, 'penalty': 1, 'penal': 1, 'interest': 1, 'sheet': 2, 'calculation': 1, 'comes': 2, 'recall': 1, 'Zorg': 1, 'boulke': 1, 'lakh': 2, '20,000': 2, 'Perfect': 1, 'speak': 1, 'slowly': 1, 'low': 1, 'voice': 1, 'gone': 1, 'Control': 2, 'balance': 1, 'excess': 1, 'Rs90,000': 1, '90,000': 1, 'extra': 1, 'returns': 2, 'lost': 1, 'opportunity': 1, 'Absolutely': 1, 'win': 2, 'homework': 1, 'Number': 1, 'Basically': 1, 'watching': 1, 'online': 1, 'find': 2, 'courses': 1, 'section': 1, 'download': 1, 'downloading': 1, 'Multiplier': 1, 'sixes': 1, 'automatically': 1, 'formula': 1, 'clear': 1, 'doubt': 1, 'Perish': 1, 'Men': 1, 'men': 1, 'thinking': 1, 'discuss': 1, 'second': 1}\n"
     ]
    }
   ],
   "source": [
    "word_frequencies = {}\n",
    "for word in doc:\n",
    "    if word.text.lower() not in stopwords:\n",
    "        if word.text.lower() not in punctuation:\n",
    "            if word.text not in word_frequencies.keys():\n",
    "                word_frequencies[word.text] = 1\n",
    "            else:\n",
    "                word_frequencies[word.text] += 1\n",
    "                \n",
    "print(word_frequencies)"
   ]
  },
  {
   "cell_type": "code",
   "execution_count": 12,
   "metadata": {},
   "outputs": [
    {
     "data": {
      "text/plain": [
       "49"
      ]
     },
     "execution_count": 12,
     "metadata": {},
     "output_type": "execute_result"
    }
   ],
   "source": [
    "max_frequency = max(word_frequencies.values())\n",
    "max_frequency"
   ]
  },
  {
   "cell_type": "code",
   "execution_count": 13,
   "metadata": {},
   "outputs": [
    {
     "name": "stdout",
     "output_type": "stream",
     "text": [
      "{'Hey': 0.02040816326530612, 'folks': 0.04081632653061224, 'Rachana': 0.02040816326530612, 'Ranadi': 0.02040816326530612, 'happy': 0.04081632653061224, 'announce': 0.02040816326530612, 'launch': 0.02040816326530612, 'new': 0.02040816326530612, 'course': 0.4489795918367347, 'Mastering': 0.02040816326530612, 'Money': 0.02040816326530612, 'Management': 0.02040816326530612, 'talked': 0.04081632653061224, 'seven': 0.04081632653061224, 'steps': 0.04081632653061224, 'master': 0.10204081632653061, 'money': 1.0, 'sure': 0.10204081632653061, 'question': 0.14285714285714285, 'mind': 0.04081632653061224, 'different': 0.10204081632653061, 'original': 0.04081632653061224, 'personal': 0.04081632653061224, 'financial': 0.02040816326530612, 'management': 0.3469387755102041, 'answer': 0.12244897959183673, 'yes': 0.02040816326530612, 'barely': 0.04081632653061224, '15': 0.02040816326530612, 'minutes': 0.04081632653061224, 'mastering': 0.04081632653061224, '5': 0.02040816326530612, 'hours': 0.02040816326530612, '45': 0.02040816326530612, 'times': 0.08163265306122448, 'previous': 0.02040816326530612, 'duration': 0.02040816326530612, 'elaborate': 0.02040816326530612, 'examples': 0.04081632653061224, 'fun': 0.04081632653061224, 'obviously': 0.02040816326530612, 'lot': 0.1836734693877551, 'special': 0.04081632653061224, 'taxation': 0.061224489795918366, 'hacks': 0.02040816326530612, 'told': 0.02040816326530612, 'certain': 0.04081632653061224, 'tips': 0.04081632653061224, 'tricks': 0.04081632653061224, 'legal': 0.02040816326530612, 'save': 0.10204081632653061, 'RS5000': 0.02040816326530612, 'tax': 0.04081632653061224, 'year': 0.04081632653061224, 'period': 0.02040816326530612, 'years': 0.02040816326530612, 'able': 0.10204081632653061, 'mean': 0.04081632653061224, 'lacks': 0.02040816326530612, 'rupees': 0.04081632653061224, 'discussed': 0.061224489795918366, 'plan': 0.08163265306122448, 'points': 0.04081632653061224, 'kept': 0.1836734693877551, 'draft': 0.04081632653061224, 'necessary': 0.10204081632653061, 'retirement': 0.02040816326530612, 'fund': 0.02040816326530612, 'crore': 0.04081632653061224, 'house': 0.02040816326530612, 'car': 0.061224489795918366, 'thoroughly': 0.02040816326530612, 'enjoyed': 0.02040816326530612, 'shooting': 0.02040816326530612, 'watch': 0.04081632653061224, 'definitely': 0.04081632653061224, 'feel': 0.16326530612244897, 'oh': 0.02040816326530612, 'God': 0.02040816326530612, 'learned': 0.02040816326530612, 'absolute': 0.02040816326530612, 'celebrate': 0.02040816326530612, 'Republic': 0.02040816326530612, 'Day': 0.02040816326530612, 'tell': 0.12244897959183673, 'launching': 0.02040816326530612, 'introductory': 0.02040816326530612, 'offer': 0.02040816326530612, 'price': 0.02040816326530612, 'forget': 0.02040816326530612, 'check': 0.02040816326530612, 'website': 0.02040816326530612, 'rachanaranadaycom': 0.02040816326530612, 'enroll': 0.02040816326530612, 'life': 0.08163265306122448, 'sneak': 0.02040816326530612, 'peek': 0.02040816326530612, 'hey': 0.02040816326530612, 'c': 0.02040816326530612, 'rachana': 0.02040816326530612, 'Ranai': 0.02040816326530612, 'welcome': 0.02040816326530612, 'important': 0.10204081632653061, 'school': 0.14285714285714285, 'level': 0.061224489795918366, 'taught': 0.14285714285714285, 'concepts': 0.02040816326530612, 'time': 0.16326530612244897, 'felt': 0.02040816326530612, 'secure': 0.02040816326530612, 'marks': 0.02040816326530612, 'great': 0.02040816326530612, 'impact': 0.04081632653061224, 'daily': 0.02040816326530612, 'routines': 0.02040816326530612, 'simple': 0.02040816326530612, 'example': 0.14285714285714285, 'remember': 0.04081632653061224, 'learning': 0.04081632653061224, 'heart': 0.02040816326530612, 'French': 0.04081632653061224, 'Revolution': 0.04081632653061224, 'date': 0.02040816326530612, 'till': 0.02040816326530612, 'today': 0.08163265306122448, 'related': 0.02040816326530612, 'day': 0.04081632653061224, 'power': 0.02040816326530612, 'compounding': 0.02040816326530612, 'planning': 0.02040816326530612, 'mutual': 0.04081632653061224, 'funds': 0.2857142857142857, 'stock': 0.02040816326530612, 'market': 0.02040816326530612, 'basic': 0.04081632653061224, 'better': 0.04081632653061224, 'managers': 0.02040816326530612, 'outlook': 0.02040816326530612, 'team': 0.02040816326530612, 'members': 0.02040816326530612, 'sitting': 0.02040816326530612, 'right': 0.1836734693877551, 'mandatory': 0.02040816326530612, 'sit': 0.02040816326530612, 'attend': 0.02040816326530612, 'session': 0.061224489795918366, 'salary': 0.061224489795918366, 'payments': 0.02040816326530612, 'attentive': 0.02040816326530612, 'let': 0.20408163265306123, 'ask': 0.04081632653061224, 'Yes': 0.2653061224489796, 'problem': 0.08163265306122448, 'city': 0.02040816326530612, 'Pune': 0.02040816326530612, 'Maharashtra': 0.02040816326530612, 'India': 0.04081632653061224, 'Dubai': 0.02040816326530612, 'recently': 0.02040816326530612, 'thought': 0.02040816326530612, 'asking': 0.02040816326530612, 'people': 0.061224489795918366, 'countries': 0.061224489795918366, 'lucky': 0.02040816326530612, 'deliver': 0.02040816326530612, 'students': 0.04081632653061224, '20': 0.02040816326530612, 'attended': 0.02040816326530612, 'small': 0.02040816326530612, 'clip': 0.04081632653061224, 'hear': 0.04081632653061224, 'views': 0.02040816326530612, 'skills': 0.04081632653061224, 'country': 0.02040816326530612, 'state': 0.02040816326530612, 'originally': 0.02040816326530612, 'Palestine': 0.02040816326530612, 'live': 0.02040816326530612, 'UAE': 0.02040816326530612, 'Okay': 0.32653061224489793, 'talking': 0.04081632653061224, 'finances': 0.04081632653061224, 'schools': 0.02040816326530612, 'collective': 0.02040816326530612, 'teaching': 0.02040816326530612, 'Collective': 0.02040816326530612, 'controls': 0.02040816326530612, 'financing': 0.02040816326530612, 'investing': 0.02040816326530612, 'district': 0.02040816326530612, 'Wow': 0.02040816326530612, 'okay': 0.10204081632653061, 'mistake': 0.04081632653061224, 'Question': 0.02040816326530612, 'insurance': 0.16326530612244897, 'income': 0.061224489795918366, 'charged': 0.02040816326530612, '10': 0.061224489795918366, 'Actually': 0.02040816326530612, 'invest': 0.04081632653061224, 'channel': 0.02040816326530612, 'creator': 0.02040816326530612, 'trying': 0.02040816326530612, 'coverage': 0.02040816326530612, 'like': 0.16326530612244897, 'calories': 0.04081632653061224, 'case': 0.04081632653061224, 'job': 0.02040816326530612, 'Yeah': 0.02040816326530612, 'took': 0.02040816326530612, 'pandemic': 0.02040816326530612, 'scared': 0.02040816326530612, 'sun': 0.02040816326530612, 'wanted': 0.02040816326530612, 'having': 0.04081632653061224, 'look': 0.061224489795918366, 'hope': 0.10204081632653061, 'understood': 0.10204081632653061, 'unfortunately': 0.04081632653061224, 'globe': 0.02040816326530612, 'skill': 0.04081632653061224, 'late': 0.02040816326530612, 'saying': 0.02040816326530612, 'Hindi': 0.02040816326530612, 'think': 0.1836734693877551, 'start': 0.02040816326530612, 'acquiring': 0.02040816326530612, 'learn': 0.02040816326530612, 'managing': 0.04081632653061224, 'way': 0.04081632653061224, 'want': 0.061224489795918366, 'image': 0.02040816326530612, 'know': 0.08163265306122448, 'person': 0.08163265306122448, 'idea': 0.02040816326530612, 'Sushil': 0.061224489795918366, 'Kumar': 0.061224489795918366, 'Sahi': 0.02040816326530612, 'Java': 0.02040816326530612, 'kara': 0.02040816326530612, 'Shunirupe': 0.02040816326530612, 'picture': 0.02040816326530612, 'won': 0.061224489795918366, 'crores': 0.02040816326530612, 'KBC': 0.02040816326530612, 'super': 0.02040816326530612, 'duper': 0.02040816326530612, 'rich': 0.02040816326530612, 'huge': 0.04081632653061224, 'bankrupt': 0.02040816326530612, 'earn': 0.061224489795918366, 'equal': 0.02040816326530612, 'importance': 0.10204081632653061, 'manage': 0.04081632653061224, 'films': 0.02040816326530612, 'quote': 0.02040816326530612, 'Marathi': 0.02040816326530612, 'film': 0.10204081632653061, 'seen': 0.04081632653061224, 'amazing': 0.02040816326530612, 'Mulshi': 0.02040816326530612, 'Patern': 0.02040816326530612, 'portrays': 0.02040816326530612, 'story': 0.08163265306122448, 'farmer': 0.02040816326530612, 'sells': 0.02040816326530612, 'land': 0.04081632653061224, 'agricultural': 0.02040816326530612, 'Gets': 0.02040816326530612, 'lump': 0.02040816326530612, 'sum': 0.02040816326530612, 'weds': 0.02040816326530612, 'daughters': 0.02040816326530612, 'spends': 0.02040816326530612, 'buys': 0.02040816326530612, 'luxurious': 0.02040816326530612, 'cars': 0.02040816326530612, 'spend': 0.02040816326530612, 'remaining': 0.02040816326530612, 'point': 0.061224489795918366, 'happens': 0.02040816326530612, 'fill': 0.04081632653061224, 'petrol': 0.04081632653061224, 'tanks': 0.02040816326530612, 'shown': 0.02040816326530612, 'wife': 0.02040816326530612, 'dry': 0.04081632653061224, 'clothes': 0.02040816326530612, 'utensils': 0.02040816326530612, 'whatnot': 0.02040816326530612, 'earns': 0.02040816326530612, 'weight': 0.02040816326530612, 'earning': 0.061224489795918366, 'homemakers': 0.02040816326530612, 'Homemakers': 0.02040816326530612, 'People': 0.02040816326530612, 'business': 0.02040816326530612, 'profession': 0.02040816326530612, 'Salaried': 0.02040816326530612, 'loves': 0.02040816326530612, 'going': 0.24489795918367346, 'understand': 0.08163265306122448, 'started': 0.04081632653061224, 'try': 0.02040816326530612, 'step': 0.10204081632653061, 'suspense': 0.02040816326530612, 'Let': 0.10204081632653061, 'Sonal': 0.3877551020408163, 'Monal': 0.24489795918367346, 'friends': 0.04081632653061224, 'sonal': 0.04081632653061224, 'graduated': 0.04081632653061224, 'college': 0.02040816326530612, 'working': 0.02040816326530612, 'company': 0.02040816326530612, 'Rs25,000': 0.061224489795918366, 'good': 0.02040816326530612, 'decided': 0.08163265306122448, 'come': 0.02040816326530612, 'Rs10,000': 0.061224489795918366, 'single': 0.02040816326530612, 'month': 0.04081632653061224, 'park': 0.02040816326530612, 'savings': 0.061224489795918366, 'bank': 0.04081632653061224, 'account': 0.32653061224489793, 'parts': 0.02040816326530612, 'Rs10,000.01': 0.02040816326530612, 'Rs2500': 0.02040816326530612, 'invested': 0.02040816326530612, 'PPF': 0.02040816326530612, 'equity': 0.061224489795918366, 'shares': 0.08163265306122448, 'fourth': 0.02040816326530612, 'bonds': 0.02040816326530612, 'end': 0.04081632653061224, 'earned': 0.02040816326530612, '4': 0.02040816326530612, 'return': 0.04081632653061224, 'parking': 0.061224489795918366, 'saving': 0.2653061224489796, 'Monell': 0.061224489795918366, 'got': 0.02040816326530612, 'parked': 0.061224489795918366, 'investment': 0.04081632653061224, 'assets': 0.02040816326530612, 'thoughts': 0.02040816326530612, 'given': 0.08163265306122448, 'correct': 0.02040816326530612, 'twist': 0.02040816326530612, 'contingency': 0.08163265306122448, 'faces': 0.02040816326530612, 'little': 0.04081632653061224, 'bit': 0.04081632653061224, 'worried': 0.04081632653061224, 'maybe': 0.02040816326530612, 'exactly': 0.02040816326530612, 'happened': 0.08163265306122448, 'needed': 0.02040816326530612, 'shot': 0.02040816326530612, 'position': 0.02040816326530612, 'quickly': 0.14285714285714285, 'need': 0.04081632653061224, 'withdraw': 0.04081632653061224, 'asset': 0.061224489795918366, 'classes': 0.061224489795918366, 'trading': 0.02040816326530612, 'days': 0.08163265306122448, 'Correct': 0.04081632653061224, 'CM': 0.02040816326530612, 'Adam': 0.02040816326530612, 'toes': 0.02040816326530612, 'knows': 0.02040816326530612, 'sell': 0.02040816326530612, 'takes': 0.02040816326530612, 'called': 0.04081632653061224, 'T': 0.04081632653061224, 'plus': 0.04081632653061224, 'settlement': 0.02040816326530612, 'means': 0.04081632653061224, 'trade': 0.061224489795918366, 'selling': 0.02040816326530612, 'minimum': 0.02040816326530612, 'number': 0.04081632653061224, 'basically': 0.061224489795918366, 'reason': 0.02040816326530612, 'far': 0.02040816326530612, 'liquidity': 0.04081632653061224, 'concerned': 0.02040816326530612, 'convert': 0.02040816326530612, 'investments': 0.02040816326530612, 'cash': 0.061224489795918366, 'facing': 0.02040816326530612, 'arise': 0.02040816326530612, 'winner': 0.02040816326530612, 'keeping': 0.04081632653061224, 'entire': 0.04081632653061224, 'wise': 0.02040816326530612, 'meet': 0.02040816326530612, 'emergency': 0.16326530612244897, 'faced': 0.04081632653061224, 'cap': 0.04081632653061224, 'journey': 0.04081632653061224, 'understanding': 0.02040816326530612, 'place': 0.04081632653061224, 'concept': 0.04081632653061224, 'repeat': 0.02040816326530612, 'known': 0.02040816326530612, 'quick': 0.04081632653061224, 'calculate': 0.10204081632653061, 'Excel': 0.14285714285714285, 'Sheet': 0.10204081632653061, 'help': 0.02040816326530612, 'access': 0.08163265306122448, 'list': 0.02040816326530612, 'committed': 0.10204081632653061, 'monthly': 0.12244897959183673, 'expenses': 0.1836734693877551, 'word': 0.02040816326530612, 'Necessary': 0.02040816326530612, 'party': 0.02040816326530612, 'expense': 0.02040816326530612, 'happen': 0.02040816326530612, 'Possibility': 0.02040816326530612, 'rent': 0.04081632653061224, 'EMI': 0.04081632653061224, 'zero': 0.02040816326530612, 'taking': 0.02040816326530612, 'Beet': 0.02040816326530612, 'Beat': 0.02040816326530612, 'Assume': 0.02040816326530612, 'staying': 0.04081632653061224, 'parents': 0.061224489795918366, 'pay': 0.04081632653061224, 'groceries': 0.04081632653061224, 'milk': 0.02040816326530612, 'possible': 0.02040816326530612, 'premium': 0.04081632653061224, 'paying': 0.02040816326530612, 'RS2000': 0.04081632653061224, 'Electricity': 0.02040816326530612, 'bill': 0.08163265306122448, 'gas': 0.02040816326530612, 'push': 0.02040816326530612, 'diesel': 0.02040816326530612, 'Internet': 0.02040816326530612, 'phone': 0.02040816326530612, 'Rs1000': 0.02040816326530612, 'tuition': 0.02040816326530612, 'fee': 0.02040816326530612, 'expenditure': 0.04081632653061224, '5,000': 0.04081632653061224, 'Sleeping': 0.02040816326530612, 'maximum': 0.02040816326530612, 'FD': 0.061224489795918366, '30,000': 0.061224489795918366, 'math': 0.02040816326530612, '5000': 0.02040816326530612, 'multiplier': 0.02040816326530612, 'basics': 0.02040816326530612, 'months': 0.04081632653061224, 'locker': 0.02040816326530612, 'premature': 0.02040816326530612, 'levied': 0.02040816326530612, 'penalty': 0.02040816326530612, 'penal': 0.02040816326530612, 'interest': 0.02040816326530612, 'sheet': 0.04081632653061224, 'calculation': 0.02040816326530612, 'comes': 0.04081632653061224, 'recall': 0.02040816326530612, 'Zorg': 0.02040816326530612, 'boulke': 0.02040816326530612, 'lakh': 0.04081632653061224, '20,000': 0.04081632653061224, 'Perfect': 0.02040816326530612, 'speak': 0.02040816326530612, 'slowly': 0.02040816326530612, 'low': 0.02040816326530612, 'voice': 0.02040816326530612, 'gone': 0.02040816326530612, 'Control': 0.04081632653061224, 'balance': 0.02040816326530612, 'excess': 0.02040816326530612, 'Rs90,000': 0.02040816326530612, '90,000': 0.02040816326530612, 'extra': 0.02040816326530612, 'returns': 0.04081632653061224, 'lost': 0.02040816326530612, 'opportunity': 0.02040816326530612, 'Absolutely': 0.02040816326530612, 'win': 0.04081632653061224, 'homework': 0.02040816326530612, 'Number': 0.02040816326530612, 'Basically': 0.02040816326530612, 'watching': 0.02040816326530612, 'online': 0.02040816326530612, 'find': 0.04081632653061224, 'courses': 0.02040816326530612, 'section': 0.02040816326530612, 'download': 0.02040816326530612, 'downloading': 0.02040816326530612, 'Multiplier': 0.02040816326530612, 'sixes': 0.02040816326530612, 'automatically': 0.02040816326530612, 'formula': 0.02040816326530612, 'clear': 0.02040816326530612, 'doubt': 0.02040816326530612, 'Perish': 0.02040816326530612, 'Men': 0.02040816326530612, 'men': 0.02040816326530612, 'thinking': 0.02040816326530612, 'discuss': 0.02040816326530612, 'second': 0.02040816326530612}\n"
     ]
    }
   ],
   "source": [
    "for word in word_frequencies.keys():\n",
    "    word_frequencies[word] = word_frequencies[word]/max_frequency\n",
    "\n",
    "print(word_frequencies)"
   ]
  },
  {
   "cell_type": "code",
   "execution_count": 14,
   "metadata": {},
   "outputs": [
    {
     "name": "stdout",
     "output_type": "stream",
     "text": [
      "[Hey folks here Rachana Ranadi here and I'm very happy to announce the launch of a new course which is Mastering Money Management., In this course I've talked about seven steps to master your money I'm sure few of you might have this question in your mind that is this course different from the original course of personal financial management?, And the answer is yes the original course was barely around two or 15 minutes, but this course on mastering money management is almost 5 hours 45 minutes, so it's more than two times of the previous course duration but is that it?, No, it is more personal, it's more elaborate, it has more examples and it is more fun so it's obviously a lot more and more., Not only this., In this course, we have talked about special taxation hacks wherein I have told certain tips and tricks., Of course legal tips and tricks where you can save almost RS5000 in tax in the very first year., And over a period of years you will be able to save taxation I mean you will be able to save lacks of rupees in taxation not only that we have discussed about how to plan your will what are certain points to be kept in mind while you draft your will?, Is it necessary to draft a will or not?, And a lot more points., Not only this, we have discussed about how to plan for your retirement fund of one crore rupees, how to plan for your first house, and how to plan for your first car., I thoroughly enjoyed shooting this course, and I'm sure that while you watch this course, you will definitely feel that, oh, my God, I learned a lot., And that, too, is absolute fun., So just to celebrate the Republic Day, I'm happy to tell you that we are launching this course at this introductory offer price so don't forget to check out our website rachanaranadaycom and enroll for this course to master your money and to master your life., So here's a special sneak peek of this course hey folks, c, A rachana Ranai here, and I welcome you all to a very important course which is about master your money management., I feel this is a course which should have been discussed for everyone at the school level because I feel that we were taught about a lot of concepts at school which at that time we felt very important just to secure marks but they really did not have a great impact in our daily routines., Just to give you a simple example, I remember learning by heart a lot about French Revolution., But from that date till today, I have never, ever used anything related to French Revolution in my day to day life., But if I were taught about the power of compounding, about tax planning, about money management, about mutual funds, stock market and few more, at least at a very, very basic level, I'm sure I, and many of us, would have been better money managers by now., So this is my outlook., I have few team members who are sitting right here., It has been made mandatory for them to sit here and to attend the session., Otherwise it would have had an impact on their salary payments., So now they are here very much attentive let me ask them as well., What is their take on money management?, So what do you feel is money management important?, Yes., What have you taught about that at school?, No., And do you feel that it should have been taught at school level?, Yes., Now do you feel that this is the problem about just my city, Pune?, No., Is it only about Maharashtra?, No., Is it only about India?, For that?, I had been to Dubai recently, and I thought of asking this same question to people from different countries., I was lucky to deliver a session where students from more than 20 countries attended my session., And in the small clip, you can see people from almost six or seven different countries., And let us hear their views on where they taught about money management skills at school or not., Which country are you from?, The state?, I'm originally from Palestine, but I live in the UAE., Okay., How about you?, Okay., Were you talking about finances in schools?, Not that much., Not much?, No., What was that?, One by one by one two., One by one two., That's it., Okay., Not at all?, No., This is the collective answer., Do you feel teaching finances at school is very important?, Yes., Collective answer., Okay., Who controls the financing investing district?, For you?, For myself., It's me., Wow., That's okay., It's me., But I'll make a mistake., Okay., Question for all of this is that if you have an insurance, how much times of your income are you charged?, I'm not sure., 10% of your income?, Actually, I don't invest in insurance., You should watch my channel., So I'm a creator trying to make more money., But I already have an insurance coverage and it was ten times my income at the time., Ten times?, I have like three calories., So in case, like, I don't have a job, I have like three calories., I also have life insurance., Okay?, Yeah, I also have life insurance., But I took that insurance during pandemic time because I'm so scared of the sun that I wanted to., Well, after having a look at this clip, I hope you understood that it's not only about India that money management is not taught at school., But unfortunately, it's across the globe that this important skill of money management is not taught., But it's never too late., It's a saying in Hindi as well., So I think this is the right time to start acquiring this skill and to learn managing your money in a better way., Now, I want you all to answer this question again., Have a look at this image., And do you know this person?, Who is he?, Any idea?, Sushil Kumar., Sushil Kumar., Sahi Java five kara Shunirupe, I say question., Okay., So this picture is of Sushil Kumar and he had won five crores at KBC., Now, what do you feel today?, He might be like a super duper rich person., A five crore is a huge amount, right?, But just for you all, this person today is bankrupt., So it's not about only how much you earn., I think equal importance is about how do you save, how do you manage and how do you invest that money., Okay., Is there only one example?, I think there are a lot of examples in some films as well., I would want to quote an example from a Marathi film., It's okay even if you have not seen that film., But it's a very amazing film., And the name of the film is Mulshi Patern., This film portrays the story of a farmer who sells off his land, agricultural land., Gets a lot of money as a lump sum money., But unfortunately, he doesn't know what is to be done with such a huge amount of money., What he does is that he weds off his daughters, spends a lot of money there., He buys some luxurious cars to spend whatever money is remaining with him at one point of time., What happens is that he doesn't have even that much money that he can fill up the petrol tanks in that car., So then it has shown that his wife is just using that car to dry clothes and dry utensils and whatnot., So this can be the story of a person who earns a lot but who doesn't know how to manage the money., So I hope everyone has understood the importance of money management as well., Yes., So can I say same weight, same importance to both only earning money?, No, it's about earning money as well as managing the money as well., Now that you have understood the importance, the next question is that this course should be seen., By whom do you think only students should do this course?, No, homemakers., Homemakers should see this as well., People who are doing business profession?, Yes., Salaried people., Anyone and everyone., Yes., Because everyone loves to earn money., Now in this course we are going to understand how to master your money., Well, now that you have understood the importance of this course now let us get started and let us try and understand what are the various steps in your money management skills., The very first step is okay, let me keep this as a suspense and let me give you an example and see whether you are able to get the very first step by yourself or not., Let's take the example of Sonal and Monal., Here are two friends, sonal and Monal., Both have just graduated from college and have started working in a company., Both are earning the same salary of Rs25,000., Both being very good friends decided that come what may we both are going to save Rs10,000 each every single month., Now what they had not decided was where are they going to park these funds?, Sonal decided to keep these Rs10,000 in her savings bank account whereas Monal decided to make four parts of these Rs10,000.01., Part of Rs2500 was invested in mutual funds., One in a PPF account, the third in equity shares and the fourth in bonds., At the end of the year, Sonal had earned barely around 4% return as she was just parking the funds in the saving account., Whereas Monell got a return of almost 10% because she had parked her funds in various investment assets., Now what do you think, Sonal?, One or Monal?, What are your thoughts?, Monal, everyone?, Monal?, Yes, but Monal is where have I given the correct answer?, Let me give you a twist in the story., Now there was some contingency and have a look at the faces of Sonal and Monal., Again, both seem to be a little bit worried., And Sonal is a little bit less worried maybe., Because now I'm going to tell you exactly what had happened., There was a contingency because of which both needed Rs25,000 at one shot., Now what do you think?, Sonal might have been in a position to get that Rs25,000 just like that quickly., Yes or no?, Yes., And what about Monal?, She would need some time to withdraw the money., She would need some time to withdraw the money., Why?, Because she is parked in different asset classes like equity shares., It will take two trading days., Correct?, Correct. CM., Adam is right on her toes., Because she knows that for equity if you were to sell the shares it takes at least two days to get the money in your bank account., It is called as a T plus two settlement., Okay?, T means trade., Whenever you did the trade trade of selling the shares and how many days plus two, that is the minimum amount., I mean, that is the number of days basically after which you will get the money., So that was the reason why as far as the liquidity was concerned liquidity means what?, When do you get your money?, Are you able to convert your investments into cash quickly or not?, So for that, Monal was facing a problem., So now do you think that if a contingency were to arise, who is the winner?, Is it Sonal or is it Monal?, Sonal., But still I have not given my answer., Now I'll tell you one more point to this whole story, okay?, Now if I were to ask about Sonal sonal was keeping the entire money in her saving account., Now what do you think?, Was it wise enough for her to keep the whole money in the saving account so that she can meet any emergency that she would have faced?, Or should there have been a cap on how much amount that should have been parked in the saving account., There should have been a cap to that., That is the very first step in our entire money management journey which is about understanding how much money should you have in your saving account or in a place where you can get your money., Just like that., Okay?, So that concept is called as the concept of emergency funds., If you can repeat with me, it is known as emergency funds., So let us take a quick example and understand., How do you calculate the amount of emergency funds?, Now, here is an Excel Sheet which can help you to calculate how much emergency funds should you have that you can access at any point in time, right?, So you have to just list down all those committed or necessary monthly expenses., What is the word here?, Necessary monthly expenses., So basically, you're not going to say, I want these many funds for party., That's a necessary expense., That's not going to happen, right?, So what could be the necessary expenses?, Possibility number one rent or EMI., Let us put this as zero only because what was the example that we were taking?, We were talking about a case where Beet Sonal or Beat Monell both have just graduated., Assume that they are staying with their parents, right?, And because they are staying with their parents, they are not going to pay rent to them., They are not also going to pay for the groceries or milk or whatever., So let's see what could be the possible expenses., No EMI insurance premium., Let's take she is paying an insurance premium of RS2000., Electricity bill, gas bill., She's going to push it to her parents., I'm sure about that., Then let us say petrol, diesel expenses, another RS2000, groceries bill, nothing., Internet, phone bill., Let's take Rs1000 and tuition fee., Nothing., Other necessary expenses?, Nothing., Okay, quickly tell me, how much is her monthly committed expenditure?, $5,000., Sleeping maximum expenditure for her is $5,000., Now, if you see here at the end, you can see emergency funds to be kept in cash or saving account or in an FD is how much?, 30,000., So, basic math?, 5000., I've given a multiplier of six., Okay., Now why is this?, So, as per the basics of money management, six months of your monthly committed expenses should be kept at a place from where you can quickly access that money., Can you quickly access the money if you have kept it as cash in your locker?, Yes., In your saving account?, Yes., What about an FD?, Can you premature the FD and get the money just like that?, Yes, of course., Why not?, You will be levied some penalty or some penal interest., That is okay., But you'll still be able to quickly access that money, right?, So 30,000 should have been kept by Sonal in her savings account., Well, now, I hope you have understood the Excel sheet calculation., And now comes a quick question for you all., Can you recall how much money had Sonal kept in her savings account?, If you remember, she was saving Rs10,000 per month and she was saving that for twelve months., Zorg boulke., One lakh 20,000., Perfect., If you speak slowly or in a very low voice, 10% salary gone., Okay., Control., Control., Okay., So one lakh 20,000 was the balance that Sonal had kept in her saving account, right?, How much should have been kept by her?, 30,000., So how much excess was she keeping in her saving account?, That was Rs90,000., Now tell me, what is the problem in having 90,000 extra in your saving account?, Is there any problem?, Less returns., Less returns., So basically, can I say she lost the opportunity to earn more by parking these funds in different asset classes?, Absolutely., Yes., So now again comes the same question., Who won?, Did Sonal win?, No., Did Monal win?, No., None of them won., Because none of them had done my course on mastering money management., Now that you all know, I hope you all will not make the same mistake that Sonal did or Monell did so quickly tell me, what should you all be doing?, It's your homework today., By the way, your first step in your money management journey., Number one, you have to calculate what is the amount of monthly emergency funds or monthly committed expenses?, Basically, that is what you have to calculate., And how are you going to calculate that you have the Excel Sheet?, Now, if you are watching this online, where are you going to find the Excel Sheet?, That is where in the courses section itself, you are going to find the Excel Sheet., Okay., You have to download this Excel sheet., After downloading fill up, what are your committed expenses?, Multiplier of sixes automatically given in our Excel Sheet formula is very much there., And that much money should be kept in your saving account., If there has anything over and above that, you can definitely think about parking these funds in other investment asset classes., I hope everything is clear to hear any doubt., Perish., But what happened to Sonal?, What was her emergency?, Men will be men., Here we are learning about money management and he is thinking about what happened to Sonal., What was the contingency that she faced?, Okay, let's understand about what happened with Sonal when we discuss the second step of money management.]\n"
     ]
    }
   ],
   "source": [
    "sentence_tokens = [sent for sent in doc.sents]\n",
    "print(sentence_tokens)"
   ]
  },
  {
   "cell_type": "code",
   "execution_count": 15,
   "metadata": {},
   "outputs": [
    {
     "data": {
      "text/plain": [
       "{Hey folks here Rachana Ranadi here and I'm very happy to announce the launch of a new course which is Mastering Money Management.: 2.0204081632653064,\n",
       " In this course I've talked about seven steps to master your money I'm sure few of you might have this question in your mind that is this course different from the original course of personal financial management?: 3.4081632653061225,\n",
       " And the answer is yes the original course was barely around two or 15 minutes: 0.7346938775510206,\n",
       " but this course on mastering money management is almost 5 hours 45 minutes: 1.9387755102040818,\n",
       " so it's more than two times of the previous course duration but is that it?: 0.5714285714285714,\n",
       " No, it is more personal, it's more elaborate, it has more examples and it is more fun so it's obviously a lot more and more.: 0.3469387755102041,\n",
       " In this course, we have talked about special taxation hacks wherein I have told certain tips and tricks.: 0.7551020408163267,\n",
       " Of course legal tips and tricks where you can save almost RS5000 in tax in the very first year.: 0.7346938775510206,\n",
       " And over a period of years you will be able to save taxation I mean you will be able to save lacks of rupees in taxation not only that we have discussed about how to plan your will what are certain points to be kept in mind while you draft your will?: 1.1632653061224492,\n",
       " Is it necessary to draft a will or not?: 0.14285714285714285,\n",
       " And a lot more points.: 0.22448979591836735,\n",
       " Not only this, we have discussed about how to plan for your retirement fund of one crore rupees, how to plan for your first house, and how to plan for your first car.: 0.510204081632653,\n",
       " I thoroughly enjoyed shooting this course, and I'm sure that while you watch this course, you will definitely feel that, oh, my God, I learned a lot.: 1.5306122448979593,\n",
       " And that, too, is absolute fun.: 0.061224489795918366,\n",
       " So just to celebrate the Republic Day: 0.061224489795918366,\n",
       " I'm happy to tell you that we are launching this course at this introductory offer price so don't forget to check out our website rachanaranadaycom and enroll for this course to master your money and to master your life.: 2.5306122448979593,\n",
       " So here's a special sneak peek of this course hey folks, c: 0.6122448979591838,\n",
       " A rachana Ranai here: 0.02040816326530612,\n",
       " and I welcome you all to a very important course which is about master your money management.: 2.0204081632653064,\n",
       " I feel this is a course which should have been discussed for everyone at the school level because I feel that we were taught about a lot of concepts at school which at that time we felt very important just to secure marks but they really did not have a great impact in our daily routines.: 1.959183673469388,\n",
       " Just to give you a simple example, I remember learning by heart a lot about French Revolution.: 0.44897959183673464,\n",
       " But from that date till today, I have never, ever used anything related to French Revolution in my day to day life.: 0.3061224489795918,\n",
       " But if I were taught about the power of compounding, about tax planning, about money management, about mutual funds, stock market and few more, at least at a very, very basic level, I'm sure I, and many of us, would have been better money managers by now.: 3.224489795918367,\n",
       " So this is my outlook.: 0.02040816326530612,\n",
       " I have few team members who are sitting right here.: 0.24489795918367346,\n",
       " It has been made mandatory for them to sit here and to attend the session.: 0.12244897959183673,\n",
       " Otherwise it would have had an impact on their salary payments.: 0.12244897959183673,\n",
       " So now they are here very much attentive let me ask them as well.: 0.2653061224489796,\n",
       " What is their take on money management?: 1.346938775510204,\n",
       " So what do you feel is money management important?: 1.6122448979591835,\n",
       " Yes.: 0.02040816326530612,\n",
       " What have you taught about that at school?: 0.2857142857142857,\n",
       " And do you feel that it should have been taught at school level?: 0.5102040816326531,\n",
       " Yes.: 0.02040816326530612,\n",
       " Now do you feel that this is the problem about just my city, Pune?: 0.2653061224489796,\n",
       " I had been to Dubai recently: 0.02040816326530612,\n",
       " and I thought of asking this same question to people from different countries.: 0.40816326530612246,\n",
       " I was lucky to deliver a session where students from more than 20 countries attended my session.: 0.3061224489795918,\n",
       " And in the small clip, you can see people from almost six or seven different countries.: 0.32653061224489793,\n",
       " And let us hear their views on where they taught about money management skills at school or not.: 1.9387755102040816,\n",
       " Which country are you from?: 0.02040816326530612,\n",
       " The state?: 0.02040816326530612,\n",
       " I'm originally from Palestine, but I live in the UAE.: 0.04081632653061224,\n",
       " Okay.: 0.10204081632653061,\n",
       " Okay.: 0.10204081632653061,\n",
       " Were you talking about finances in schools?: 0.1020408163265306,\n",
       " Okay.: 0.10204081632653061,\n",
       " This is the collective answer.: 0.14285714285714285,\n",
       " Do you feel teaching finances at school is very important?: 0.4693877551020408,\n",
       " Yes.: 0.02040816326530612,\n",
       " Collective answer.: 0.14285714285714285,\n",
       " Okay.: 0.10204081632653061,\n",
       " Who controls the financing investing district?: 0.08163265306122448,\n",
       " That's okay.: 0.10204081632653061,\n",
       " But I'll make a mistake.: 0.04081632653061224,\n",
       " Okay.: 0.10204081632653061,\n",
       " Question for all of this is that if you have an insurance, how much times of your income are you charged?: 0.46938775510204084,\n",
       " I'm not sure.: 0.10204081632653061,\n",
       " 10% of your income?: 0.12244897959183673,\n",
       " Actually, I don't invest in insurance.: 0.2040816326530612,\n",
       " You should watch my channel.: 0.061224489795918366,\n",
       " So I'm a creator trying to make more money.: 1.0408163265306123,\n",
       " But I already have an insurance coverage and it was ten times my income at the time.: 0.4897959183673469,\n",
       " Ten times?: 0.08163265306122448,\n",
       " I have like three calories.: 0.2040816326530612,\n",
       " So in case, like, I don't have a job, I have like three calories.: 0.42857142857142855,\n",
       " I also have life insurance.: 0.24489795918367346,\n",
       " Okay?: 0.10204081632653061,\n",
       " Yeah, I also have life insurance.: 0.24489795918367346,\n",
       " But I took that insurance during pandemic time because I'm so scared of the sun that I wanted to.: 0.4285714285714286,\n",
       " Well, after having a look at this clip, I hope you understood that it's not only about India that money management is not taught at school.: 1.9795918367346936,\n",
       " But unfortunately, it's across the globe that this important skill of money management is not taught.: 1.693877551020408,\n",
       " But it's never too late.: 0.02040816326530612,\n",
       " It's a saying in Hindi as well.: 0.02040816326530612,\n",
       " So I think this is the right time to start acquiring this skill and to learn managing your money in a better way.: 1.7551020408163267,\n",
       " Now, I want you all to answer this question again.: 0.32653061224489793,\n",
       " Have a look at this image.: 0.08163265306122448,\n",
       " And do you know this person?: 0.16326530612244897,\n",
       " Any idea?: 0.02040816326530612,\n",
       " Sahi Java five kara Shunirupe, I say question.: 0.16326530612244897,\n",
       " Okay.: 0.10204081632653061,\n",
       " So this picture is of Sushil Kumar and he had won five crores at KBC.: 0.1020408163265306,\n",
       " Now, what do you feel today?: 0.24489795918367346,\n",
       " He might be like a super duper rich person.: 0.3061224489795918,\n",
       " A five crore is a huge amount, right?: 0.2653061224489796,\n",
       " But just for you all, this person today is bankrupt.: 0.18367346938775508,\n",
       " So it's not about only how much you earn.: 0.061224489795918366,\n",
       " I think equal importance is about how do you save, how do you manage and how do you invest that money.: 1.489795918367347,\n",
       " Okay.: 0.10204081632653061,\n",
       " Is there only one example?: 0.14285714285714285,\n",
       " I think there are a lot of examples in some films as well.: 0.4285714285714286,\n",
       " I would want to quote an example from a Marathi film.: 0.32653061224489793,\n",
       " It's okay even if you have not seen that film.: 0.24489795918367346,\n",
       " But it's a very amazing film.: 0.12244897959183673,\n",
       " And the name of the film is Mulshi Patern.: 0.10204081632653061,\n",
       " This film portrays the story of a farmer who sells off his land, agricultural land.: 0.3469387755102041,\n",
       " Gets a lot of money as a lump sum money.: 2.2244897959183674,\n",
       " But unfortunately, he doesn't know what is to be done with such a huge amount of money.: 1.163265306122449,\n",
       " What he does is that he weds off his daughters, spends a lot of money there.: 1.2448979591836735,\n",
       " He buys some luxurious cars to spend whatever money is remaining with him at one point of time.: 1.326530612244898,\n",
       " What happens is that he doesn't have even that much money that he can fill up the petrol tanks in that car.: 1.1836734693877553,\n",
       " So then it has shown that his wife is just using that car to dry clothes and dry utensils and whatnot.: 0.24489795918367344,\n",
       " So this can be the story of a person who earns a lot but who doesn't know how to manage the money.: 1.4897959183673468,\n",
       " So I hope everyone has understood the importance of money management as well.: 1.653061224489796,\n",
       " Yes.: 0.02040816326530612,\n",
       " So can I say same weight, same importance to both only earning money?: 1.183673469387755,\n",
       " No, it's about earning money as well as managing the money as well.: 2.1020408163265305,\n",
       " Now that you have understood the importance, the next question is that this course should be seen.: 0.8367346938775511,\n",
       " By whom do you think only students should do this course?: 0.673469387755102,\n",
       " No, homemakers.: 0.02040816326530612,\n",
       " Homemakers should see this as well.: 0.02040816326530612,\n",
       " People who are doing business profession?: 0.1020408163265306,\n",
       " Yes.: 0.02040816326530612,\n",
       " Salaried people.: 0.061224489795918366,\n",
       " Yes.: 0.02040816326530612,\n",
       " Because everyone loves to earn money.: 1.0816326530612246,\n",
       " Now in this course we are going to understand how to master your money.: 1.8775510204081631,\n",
       " Well, now that you have understood the importance of this course now let us get started and let us try and understand what are the various steps in your money management skills.: 2.6326530612244903,\n",
       " The very first step is okay, let me keep this as a suspense and let me give you an example and see whether you are able to get the very first step by yourself or not.: 0.9795918367346939,\n",
       " Let's take the example of Sonal and Monal.: 0.3877551020408163,\n",
       " Here are two friends, sonal and Monal.: 0.08163265306122448,\n",
       " Both have just graduated from college and have started working in a company.: 0.14285714285714285,\n",
       " Both are earning the same salary of Rs25,000.: 0.12244897959183673,\n",
       " Both being very good friends decided that come what may we both are going to save Rs10,000 each every single month.: 0.5714285714285715,\n",
       " Now what they had not decided was where are they going to park these funds?: 0.6326530612244898,\n",
       " Sonal decided to keep these Rs10,000 in her savings bank account whereas Monal decided to make four parts of these Rs10,000.01.: 0.6530612244897959,\n",
       " Part of Rs2500 was invested in mutual funds.: 0.3469387755102041,\n",
       " One in a PPF account, the third in equity shares and the fourth in bonds.: 0.5102040816326531,\n",
       " At the end of the year, Sonal had earned barely around 4% return as she was just parking the funds in the saving account.: 1.183673469387755,\n",
       " Whereas Monell got a return of almost 10% because she had parked her funds in various investment assets.: 0.5306122448979592,\n",
       " Now what do you think, Sonal?: 0.22448979591836735,\n",
       " What are your thoughts?: 0.02040816326530612,\n",
       " Yes, but Monal is where have I given the correct answer?: 0.24489795918367346,\n",
       " Let me give you a twist in the story.: 0.30612244897959184,\n",
       " Now there was some contingency and have a look at the faces of Sonal and Monal.: 0.2040816326530612,\n",
       " Again, both seem to be a little bit worried.: 0.12244897959183673,\n",
       " And Sonal is a little bit less worried maybe.: 0.18367346938775508,\n",
       " Because now I'm going to tell you exactly what had happened.: 0.4693877551020408,\n",
       " There was a contingency because of which both needed Rs25,000 at one shot.: 0.12244897959183672,\n",
       " Now what do you think?: 0.1836734693877551,\n",
       " Sonal might have been in a position to get that Rs25,000 just like that quickly.: 0.36734693877551017,\n",
       " Yes or no?: 0.02040816326530612,\n",
       " Yes.: 0.02040816326530612,\n",
       " She would need some time to withdraw the money.: 1.2448979591836735,\n",
       " She would need some time to withdraw the money.: 1.2448979591836735,\n",
       " Because she is parked in different asset classes like equity shares.: 0.5918367346938775,\n",
       " It will take two trading days.: 0.1020408163265306,\n",
       " Correct?: 0.02040816326530612,\n",
       " Correct. CM.: 0.02040816326530612,\n",
       " Adam is right on her toes.: 0.20408163265306123,\n",
       " Because she knows that for equity if you were to sell the shares it takes at least two days to get the money in your bank account.: 1.6530612244897958,\n",
       " It is called as a T plus two settlement.: 0.1020408163265306,\n",
       " Okay?: 0.10204081632653061,\n",
       " T means trade.: 0.10204081632653061,\n",
       " Whenever you did the trade trade of selling the shares and how many days plus two, that is the minimum amount.: 0.36734693877551017,\n",
       " I mean, that is the number of days basically after which you will get the money.: 1.2244897959183674,\n",
       " So that was the reason why as far as the liquidity was concerned liquidity means what?: 0.18367346938775508,\n",
       " When do you get your money?: 1.0,\n",
       " Are you able to convert your investments into cash quickly or not?: 0.3469387755102041,\n",
       " So for that, Monal was facing a problem.: 0.1020408163265306,\n",
       " So now do you think that if a contingency were to arise, who is the winner?: 0.3061224489795919,\n",
       " Is it Sonal or is it Monal?: 0.04081632653061224,\n",
       " Sonal.: 0.04081632653061224,\n",
       " But still I have not given my answer.: 0.20408163265306123,\n",
       " Now I'll tell you one more point to this whole story, okay?: 0.36734693877551017,\n",
       " Now if I were to ask about Sonal sonal was keeping the entire money in her saving account.: 1.7959183673469388,\n",
       " Now what do you think?: 0.1836734693877551,\n",
       " Was it wise enough for her to keep the whole money in the saving account so that she can meet any emergency that she would have faced?: 1.836734693877551,\n",
       " Or should there have been a cap on how much amount that should have been parked in the saving account.: 0.6938775510204082,\n",
       " There should have been a cap to that.: 0.04081632653061224,\n",
       " That is the very first step in our entire money management journey which is about understanding how much money should you have in your saving account or in a place where you can get your money.: 4.183673469387755,\n",
       " Just like that.: 0.16326530612244897,\n",
       " Okay?: 0.10204081632653061,\n",
       " So that concept is called as the concept of emergency funds.: 0.5714285714285714,\n",
       " If you can repeat with me, it is known as emergency funds.: 0.4897959183673469,\n",
       " So let us take a quick example and understand.: 0.4693877551020408,\n",
       " How do you calculate the amount of emergency funds?: 0.5510204081632653,\n",
       " Now, here is an Excel Sheet which can help you to calculate how much emergency funds should you have that you can access at any point in time, right?: 1.1020408163265305,\n",
       " So you have to just list down all those committed or necessary monthly expenses.: 0.5306122448979592,\n",
       " What is the word here?: 0.02040816326530612,\n",
       " Necessary monthly expenses.: 0.40816326530612246,\n",
       " So basically, you're not going to say, I want these many funds for party.: 0.6734693877551021,\n",
       " That's a necessary expense.: 0.12244897959183673,\n",
       " That's not going to happen, right?: 0.44897959183673475,\n",
       " So what could be the necessary expenses?: 0.2857142857142857,\n",
       " Possibility number one rent or EMI.: 0.08163265306122448,\n",
       " Let us put this as zero only because what was the example that we were taking?: 0.3877551020408163,\n",
       " We were talking about a case where Beet Sonal or Beat Monell both have just graduated.: 0.16326530612244897,\n",
       " Assume that they are staying with their parents, right?: 0.2857142857142857,\n",
       " And because they are staying with their parents, they are not going to pay rent to them.: 0.42857142857142855,\n",
       " They are not also going to pay for the groceries or milk or whatever.: 0.3469387755102041,\n",
       " So let's see what could be the possible expenses.: 0.40816326530612246,\n",
       " No EMI insurance premium.: 0.2040816326530612,\n",
       " Let's take she is paying an insurance premium of RS2000.: 0.42857142857142855,\n",
       " Electricity bill, gas bill.: 0.18367346938775508,\n",
       " She's going to push it to her parents.: 0.326530612244898,\n",
       " I'm sure about that.: 0.10204081632653061,\n",
       " Then let us say petrol, diesel expenses, another RS2000, groceries bill, nothing.: 0.5714285714285715,\n",
       " Internet, phone bill.: 0.1020408163265306,\n",
       " Let's take Rs1000 and tuition fee.: 0.24489795918367346,\n",
       " Other necessary expenses?: 0.2857142857142857,\n",
       " Okay, quickly tell me, how much is her monthly committed expenditure?: 0.6326530612244898,\n",
       " $5,000.: 0.04081632653061224,\n",
       " Sleeping maximum expenditure for her is $5,000.: 0.10204081632653061,\n",
       " Now, if you see here at the end, you can see emergency funds to be kept in cash or saving account or in an FD is how much?: 1.3265306122448979,\n",
       " 30,000.: 0.061224489795918366,\n",
       " So, basic math?: 0.061224489795918366,\n",
       " 5000.: 0.02040816326530612,\n",
       " I've given a multiplier of six.: 0.1020408163265306,\n",
       " Okay.: 0.10204081632653061,\n",
       " So, as per the basics of money management, six months of your monthly committed expenses should be kept at a place from where you can quickly access that money.: 3.2653061224489797,\n",
       " Can you quickly access the money if you have kept it as cash in your locker?: 1.489795918367347,\n",
       " Yes.: 0.02040816326530612,\n",
       " In your saving account?: 0.5918367346938775,\n",
       " Yes.: 0.02040816326530612,\n",
       " Can you premature the FD and get the money just like that?: 1.183673469387755,\n",
       " Yes, of course.: 0.46938775510204084,\n",
       " You will be levied some penalty or some penal interest.: 0.08163265306122448,\n",
       " That is okay.: 0.10204081632653061,\n",
       " But you'll still be able to quickly access that money, right?: 1.510204081632653,\n",
       " So 30,000 should have been kept by Sonal in her savings account.: 0.673469387755102,\n",
       " Well, now, I hope you have understood the Excel sheet calculation.: 0.2653061224489796,\n",
       " And now comes a quick question for you all.: 0.22448979591836732,\n",
       " Can you recall how much money had Sonal kept in her savings account?: 1.6326530612244898,\n",
       " If you remember, she was saving Rs10,000 per month and she was saving that for twelve months.: 0.653061224489796,\n",
       " Zorg boulke.: 0.02040816326530612,\n",
       " One lakh 20,000.: 0.08163265306122448,\n",
       " If you speak slowly or in a very low voice, 10% salary gone.: 0.22448979591836735,\n",
       " Okay.: 0.10204081632653061,\n",
       " Okay.: 0.10204081632653061,\n",
       " So one lakh 20,000 was the balance that Sonal had kept in her saving account, right?: 1.1020408163265305,\n",
       " How much should have been kept by her?: 0.1836734693877551,\n",
       " 30,000.: 0.061224489795918366,\n",
       " So how much excess was she keeping in her saving account?: 0.653061224489796,\n",
       " Now tell me, what is the problem in having 90,000 extra in your saving account?: 0.8775510204081634,\n",
       " Is there any problem?: 0.08163265306122448,\n",
       " Less returns.: 0.04081632653061224,\n",
       " Less returns.: 0.04081632653061224,\n",
       " So basically, can I say she lost the opportunity to earn more by parking these funds in different asset classes?: 0.7346938775510202,\n",
       " Yes.: 0.02040816326530612,\n",
       " So now again comes the same question.: 0.18367346938775508,\n",
       " Who won?: 0.061224489795918366,\n",
       " Did Sonal win?: 0.08163265306122448,\n",
       " Did Monal win?: 0.04081632653061224,\n",
       " None of them won.: 0.061224489795918366,\n",
       " Because none of them had done my course on mastering money management.: 1.836734693877551,\n",
       " Now that you all know, I hope you all will not make the same mistake that Sonal did or Monell did so quickly tell me, what should you all be doing?: 0.5306122448979591,\n",
       " It's your homework today.: 0.1020408163265306,\n",
       " By the way, your first step in your money management journey.: 1.530612244897959,\n",
       " Number one, you have to calculate what is the amount of monthly emergency funds or monthly committed expenses?: 1.1224489795918366,\n",
       " Basically, that is what you have to calculate.: 0.163265306122449,\n",
       " And how are you going to calculate that you have the Excel Sheet?: 0.3877551020408163,\n",
       " Now, if you are watching this online, where are you going to find the Excel Sheet?: 0.36734693877551017,\n",
       " That is where in the courses section itself, you are going to find the Excel Sheet.: 0.36734693877551017,\n",
       " Okay.: 0.10204081632653061,\n",
       " You have to download this Excel sheet.: 0.061224489795918366,\n",
       " After downloading fill up, what are your committed expenses?: 0.34693877551020413,\n",
       " Multiplier of sixes automatically given in our Excel Sheet formula is very much there.: 0.2040816326530612,\n",
       " And that much money should be kept in your saving account.: 1.7755102040816326,\n",
       " If there has anything over and above that, you can definitely think about parking these funds in other investment asset classes.: 0.7346938775510203,\n",
       " I hope everything is clear to hear any doubt.: 0.18367346938775508,\n",
       " But what happened to Sonal?: 0.12244897959183673,\n",
       " What was her emergency?: 0.16326530612244897,\n",
       " Men will be men.: 0.04081632653061224,\n",
       " Here we are learning about money management and he is thinking about what happened to Sonal.: 1.5306122448979593,\n",
       " What was the contingency that she faced?: 0.12244897959183673,\n",
       " Okay, let's understand about what happened with Sonal when we discuss the second step of money management.: 2.0}"
      ]
     },
     "execution_count": 15,
     "metadata": {},
     "output_type": "execute_result"
    }
   ],
   "source": [
    "sentence_scores = {}\n",
    "for sent in sentence_tokens:\n",
    "    for word in sent:\n",
    "        if word.text.lower() in word_frequencies.keys():\n",
    "            if sent not in sentence_scores.keys():\n",
    "                sentence_scores[sent] = word_frequencies[word.text.lower()]\n",
    "            else:\n",
    "                sentence_scores[sent] += word_frequencies[word.text.lower()]\n",
    "                \n",
    "sentence_scores"
   ]
  },
  {
   "cell_type": "code",
   "execution_count": 16,
   "metadata": {},
   "outputs": [],
   "source": [
    "from heapq import nlargest"
   ]
  },
  {
   "cell_type": "code",
   "execution_count": 25,
   "metadata": {},
   "outputs": [
    {
     "data": {
      "text/plain": [
       "15"
      ]
     },
     "execution_count": 25,
     "metadata": {},
     "output_type": "execute_result"
    }
   ],
   "source": [
    "select_length = int(len(sentence_tokens)*0.05)\n",
    "select_length"
   ]
  },
  {
   "cell_type": "code",
   "execution_count": 26,
   "metadata": {},
   "outputs": [
    {
     "data": {
      "text/plain": [
       "[That is the very first step in our entire money management journey which is about understanding how much money should you have in your saving account or in a place where you can get your money.,\n",
       " In this course I've talked about seven steps to master your money I'm sure few of you might have this question in your mind that is this course different from the original course of personal financial management?,\n",
       " So, as per the basics of money management, six months of your monthly committed expenses should be kept at a place from where you can quickly access that money.,\n",
       " But if I were taught about the power of compounding, about tax planning, about money management, about mutual funds, stock market and few more, at least at a very, very basic level, I'm sure I, and many of us, would have been better money managers by now.,\n",
       " Well, now that you have understood the importance of this course now let us get started and let us try and understand what are the various steps in your money management skills.,\n",
       " I'm happy to tell you that we are launching this course at this introductory offer price so don't forget to check out our website rachanaranadaycom and enroll for this course to master your money and to master your life.,\n",
       " Gets a lot of money as a lump sum money.,\n",
       " No, it's about earning money as well as managing the money as well.,\n",
       " Hey folks here Rachana Ranadi here and I'm very happy to announce the launch of a new course which is Mastering Money Management.,\n",
       " and I welcome you all to a very important course which is about master your money management.,\n",
       " Okay, let's understand about what happened with Sonal when we discuss the second step of money management.,\n",
       " Well, after having a look at this clip, I hope you understood that it's not only about India that money management is not taught at school.,\n",
       " I feel this is a course which should have been discussed for everyone at the school level because I feel that we were taught about a lot of concepts at school which at that time we felt very important just to secure marks but they really did not have a great impact in our daily routines.,\n",
       " but this course on mastering money management is almost 5 hours 45 minutes,\n",
       " And let us hear their views on where they taught about money management skills at school or not.]"
      ]
     },
     "execution_count": 26,
     "metadata": {},
     "output_type": "execute_result"
    }
   ],
   "source": [
    "summary = nlargest(select_length, sentence_scores, key = sentence_scores.get)\n",
    "summary"
   ]
  },
  {
   "cell_type": "code",
   "execution_count": 27,
   "metadata": {},
   "outputs": [],
   "source": [
    "final_summary = [word.text for word in summary]\n",
    "summary = ' '.join(final_summary)"
   ]
  },
  {
   "cell_type": "code",
   "execution_count": 28,
   "metadata": {},
   "outputs": [
    {
     "name": "stdout",
     "output_type": "stream",
     "text": [
      "Hey folks here Rachana Ranadi here and I'm very happy to announce the launch of a new course which is Mastering Money Management. In this course I've talked about seven steps to master your money I'm sure few of you might have this question in your mind that is this course different from the original course of personal financial management? And the answer is yes the original course was barely around two or 15 minutes but this course on mastering money management is almost 5 hours 45 minutes so it's more than two times of the previous course duration but is that it? No, it is more personal, it's more elaborate, it has more examples and it is more fun so it's obviously a lot more and more. Not only this. In this course, we have talked about special taxation hacks wherein I have told certain tips and tricks. Of course legal tips and tricks where you can save almost RS5000 in tax in the very first year. And over a period of years you will be able to save taxation I mean you will be able to save lacks of rupees in taxation not only that we have discussed about how to plan your will what are certain points to be kept in mind while you draft your will? Is it necessary to draft a will or not? And a lot more points. Not only this, we have discussed about how to plan for your retirement fund of one crore rupees, how to plan for your first house, and how to plan for your first car. I thoroughly enjoyed shooting this course, and I'm sure that while you watch this course, you will definitely feel that, oh, my God, I learned a lot. And that, too, is absolute fun. So just to celebrate the Republic Day I'm happy to tell you that we are launching this course at this introductory offer price so don't forget to check out our website rachanaranadaycom and enroll for this course to master your money and to master your life. So here's a special sneak peek of this course hey folks, c A rachana Ranai here and I welcome you all to a very important course which is about master your money management. I feel this is a course which should have been discussed for everyone at the school level because I feel that we were taught about a lot of concepts at school which at that time we felt very important just to secure marks but they really did not have a great impact in our daily routines. Just to give you a simple example, I remember learning by heart a lot about French Revolution. But from that date till today, I have never, ever used anything related to French Revolution in my day to day life. But if I were taught about the power of compounding, about tax planning, about money management, about mutual funds, stock market and few more, at least at a very, very basic level, I'm sure I, and many of us, would have been better money managers by now. So this is my outlook. I have few team members who are sitting right here. It has been made mandatory for them to sit here and to attend the session. Otherwise it would have had an impact on their salary payments. So now they are here very much attentive let me ask them as well. What is their take on money management? So what do you feel is money management important? Yes. What have you taught about that at school? No. And do you feel that it should have been taught at school level? Yes. Now do you feel that this is the problem about just my city, Pune? No. Is it only about Maharashtra? No. Is it only about India? For that? I had been to Dubai recently and I thought of asking this same question to people from different countries. I was lucky to deliver a session where students from more than 20 countries attended my session. And in the small clip, you can see people from almost six or seven different countries. And let us hear their views on where they taught about money management skills at school or not. Which country are you from? The state? I'm originally from Palestine, but I live in the UAE. Okay. How about you? Okay. Were you talking about finances in schools? Not that much. Not much? No. What was that? One by one by one two. One by one two. That's it. Okay. Not at all? No. This is the collective answer. Do you feel teaching finances at school is very important? Yes. Collective answer. Okay. Who controls the financing investing district? For you? For myself. It's me. Wow. That's okay. It's me. But I'll make a mistake. Okay. Question for all of this is that if you have an insurance, how much times of your income are you charged? I'm not sure. 10% of your income? Actually, I don't invest in insurance. You should watch my channel. So I'm a creator trying to make more money. But I already have an insurance coverage and it was ten times my income at the time. Ten times? I have like three calories. So in case, like, I don't have a job, I have like three calories. I also have life insurance. Okay? Yeah, I also have life insurance. But I took that insurance during pandemic time because I'm so scared of the sun that I wanted to. Well, after having a look at this clip, I hope you understood that it's not only about India that money management is not taught at school. But unfortunately, it's across the globe that this important skill of money management is not taught. But it's never too late. It's a saying in Hindi as well. So I think this is the right time to start acquiring this skill and to learn managing your money in a better way. Now, I want you all to answer this question again. Have a look at this image. And do you know this person? Who is he? Any idea? Sushil Kumar. Sushil Kumar. Sahi Java five kara Shunirupe, I say question. Okay. So this picture is of Sushil Kumar and he had won five crores at KBC. Now, what do you feel today? He might be like a super duper rich person. A five crore is a huge amount, right? But just for you all, this person today is bankrupt. So it's not about only how much you earn. I think equal importance is about how do you save, how do you manage and how do you invest that money. Okay. Is there only one example? I think there are a lot of examples in some films as well. I would want to quote an example from a Marathi film. It's okay even if you have not seen that film. But it's a very amazing film. And the name of the film is Mulshi Patern. This film portrays the story of a farmer who sells off his land, agricultural land. Gets a lot of money as a lump sum money. But unfortunately, he doesn't know what is to be done with such a huge amount of money. What he does is that he weds off his daughters, spends a lot of money there. He buys some luxurious cars to spend whatever money is remaining with him at one point of time. What happens is that he doesn't have even that much money that he can fill up the petrol tanks in that car. So then it has shown that his wife is just using that car to dry clothes and dry utensils and whatnot. So this can be the story of a person who earns a lot but who doesn't know how to manage the money. So I hope everyone has understood the importance of money management as well. Yes. So can I say same weight, same importance to both only earning money? No, it's about earning money as well as managing the money as well. Now that you have understood the importance, the next question is that this course should be seen. By whom do you think only students should do this course? No, homemakers. Homemakers should see this as well. People who are doing business profession? Yes. Salaried people. Anyone and everyone. Yes. Because everyone loves to earn money. Now in this course we are going to understand how to master your money. Well, now that you have understood the importance of this course now let us get started and let us try and understand what are the various steps in your money management skills. The very first step is okay, let me keep this as a suspense and let me give you an example and see whether you are able to get the very first step by yourself or not. Let's take the example of Sonal and Monal. Here are two friends, sonal and Monal. Both have just graduated from college and have started working in a company. Both are earning the same salary of Rs25,000. Both being very good friends decided that come what may we both are going to save Rs10,000 each every single month. Now what they had not decided was where are they going to park these funds? Sonal decided to keep these Rs10,000 in her savings bank account whereas Monal decided to make four parts of these Rs10,000.01. Part of Rs2500 was invested in mutual funds. One in a PPF account, the third in equity shares and the fourth in bonds. At the end of the year, Sonal had earned barely around 4% return as she was just parking the funds in the saving account. Whereas Monell got a return of almost 10% because she had parked her funds in various investment assets. Now what do you think, Sonal? One or Monal? What are your thoughts? Monal, everyone? Monal? Yes, but Monal is where have I given the correct answer? Let me give you a twist in the story. Now there was some contingency and have a look at the faces of Sonal and Monal. Again, both seem to be a little bit worried. And Sonal is a little bit less worried maybe. Because now I'm going to tell you exactly what had happened. There was a contingency because of which both needed Rs25,000 at one shot. Now what do you think? Sonal might have been in a position to get that Rs25,000 just like that quickly. Yes or no? Yes. And what about Monal? She would need some time to withdraw the money. She would need some time to withdraw the money. Why? Because she is parked in different asset classes like equity shares. It will take two trading days. Correct? Correct. CM. Adam is right on her toes. Because she knows that for equity if you were to sell the shares it takes at least two days to get the money in your bank account. It is called as a T plus two settlement. Okay? T means trade. Whenever you did the trade trade of selling the shares and how many days plus two, that is the minimum amount. I mean, that is the number of days basically after which you will get the money. So that was the reason why as far as the liquidity was concerned liquidity means what? When do you get your money? Are you able to convert your investments into cash quickly or not? So for that, Monal was facing a problem. So now do you think that if a contingency were to arise, who is the winner? Is it Sonal or is it Monal? Sonal. But still I have not given my answer. Now I'll tell you one more point to this whole story, okay? Now if I were to ask about Sonal sonal was keeping the entire money in her saving account. Now what do you think? Was it wise enough for her to keep the whole money in the saving account so that she can meet any emergency that she would have faced? Or should there have been a cap on how much amount that should have been parked in the saving account. There should have been a cap to that. That is the very first step in our entire money management journey which is about understanding how much money should you have in your saving account or in a place where you can get your money. Just like that. Okay? So that concept is called as the concept of emergency funds. If you can repeat with me, it is known as emergency funds. So let us take a quick example and understand. How do you calculate the amount of emergency funds? Now, here is an Excel Sheet which can help you to calculate how much emergency funds should you have that you can access at any point in time, right? So you have to just list down all those committed or necessary monthly expenses. What is the word here? Necessary monthly expenses. So basically, you're not going to say, I want these many funds for party. That's a necessary expense. That's not going to happen, right? So what could be the necessary expenses? Possibility number one rent or EMI. Let us put this as zero only because what was the example that we were taking? We were talking about a case where Beet Sonal or Beat Monell both have just graduated. Assume that they are staying with their parents, right? And because they are staying with their parents, they are not going to pay rent to them. They are not also going to pay for the groceries or milk or whatever. So let's see what could be the possible expenses. No EMI insurance premium. Let's take she is paying an insurance premium of RS2000. Electricity bill, gas bill. She's going to push it to her parents. I'm sure about that. Then let us say petrol, diesel expenses, another RS2000, groceries bill, nothing. Internet, phone bill. Let's take Rs1000 and tuition fee. Nothing. Other necessary expenses? Nothing. Okay, quickly tell me, how much is her monthly committed expenditure? $5,000. Sleeping maximum expenditure for her is $5,000. Now, if you see here at the end, you can see emergency funds to be kept in cash or saving account or in an FD is how much? 30,000. So, basic math? 5000. I've given a multiplier of six. Okay. Now why is this? So, as per the basics of money management, six months of your monthly committed expenses should be kept at a place from where you can quickly access that money. Can you quickly access the money if you have kept it as cash in your locker? Yes. In your saving account? Yes. What about an FD? Can you premature the FD and get the money just like that? Yes, of course. Why not? You will be levied some penalty or some penal interest. That is okay. But you'll still be able to quickly access that money, right? So 30,000 should have been kept by Sonal in her savings account. Well, now, I hope you have understood the Excel sheet calculation. And now comes a quick question for you all. Can you recall how much money had Sonal kept in her savings account? If you remember, she was saving Rs10,000 per month and she was saving that for twelve months. Zorg boulke. One lakh 20,000. Perfect. If you speak slowly or in a very low voice, 10% salary gone. Okay. Control. Control. Okay. So one lakh 20,000 was the balance that Sonal had kept in her saving account, right? How much should have been kept by her? 30,000. So how much excess was she keeping in her saving account? That was Rs90,000. Now tell me, what is the problem in having 90,000 extra in your saving account? Is there any problem? Less returns. Less returns. So basically, can I say she lost the opportunity to earn more by parking these funds in different asset classes? Absolutely. Yes. So now again comes the same question. Who won? Did Sonal win? No. Did Monal win? No. None of them won. Because none of them had done my course on mastering money management. Now that you all know, I hope you all will not make the same mistake that Sonal did or Monell did so quickly tell me, what should you all be doing? It's your homework today. By the way, your first step in your money management journey. Number one, you have to calculate what is the amount of monthly emergency funds or monthly committed expenses? Basically, that is what you have to calculate. And how are you going to calculate that you have the Excel Sheet? Now, if you are watching this online, where are you going to find the Excel Sheet? That is where in the courses section itself, you are going to find the Excel Sheet. Okay. You have to download this Excel sheet. After downloading fill up, what are your committed expenses? Multiplier of sixes automatically given in our Excel Sheet formula is very much there. And that much money should be kept in your saving account. If there has anything over and above that, you can definitely think about parking these funds in other investment asset classes. I hope everything is clear to hear any doubt. Perish. But what happened to Sonal? What was her emergency? Men will be men. Here we are learning about money management and he is thinking about what happened to Sonal. What was the contingency that she faced? Okay, let's understand about what happened with Sonal when we discuss the second step of money management.\n"
     ]
    }
   ],
   "source": [
    "print(text)"
   ]
  },
  {
   "cell_type": "code",
   "execution_count": 29,
   "metadata": {},
   "outputs": [
    {
     "name": "stdout",
     "output_type": "stream",
     "text": [
      "That is the very first step in our entire money management journey which is about understanding how much money should you have in your saving account or in a place where you can get your money. In this course I've talked about seven steps to master your money I'm sure few of you might have this question in your mind that is this course different from the original course of personal financial management? So, as per the basics of money management, six months of your monthly committed expenses should be kept at a place from where you can quickly access that money. But if I were taught about the power of compounding, about tax planning, about money management, about mutual funds, stock market and few more, at least at a very, very basic level, I'm sure I, and many of us, would have been better money managers by now. Well, now that you have understood the importance of this course now let us get started and let us try and understand what are the various steps in your money management skills. I'm happy to tell you that we are launching this course at this introductory offer price so don't forget to check out our website rachanaranadaycom and enroll for this course to master your money and to master your life. Gets a lot of money as a lump sum money. No, it's about earning money as well as managing the money as well. Hey folks here Rachana Ranadi here and I'm very happy to announce the launch of a new course which is Mastering Money Management. and I welcome you all to a very important course which is about master your money management. Okay, let's understand about what happened with Sonal when we discuss the second step of money management. Well, after having a look at this clip, I hope you understood that it's not only about India that money management is not taught at school. I feel this is a course which should have been discussed for everyone at the school level because I feel that we were taught about a lot of concepts at school which at that time we felt very important just to secure marks but they really did not have a great impact in our daily routines. but this course on mastering money management is almost 5 hours 45 minutes And let us hear their views on where they taught about money management skills at school or not.\n"
     ]
    }
   ],
   "source": [
    "print(summary)"
   ]
  },
  {
   "cell_type": "code",
   "execution_count": 31,
   "metadata": {},
   "outputs": [
    {
     "data": {
      "text/plain": [
       "15871"
      ]
     },
     "execution_count": 31,
     "metadata": {},
     "output_type": "execute_result"
    }
   ],
   "source": [
    "len(text)"
   ]
  },
  {
   "cell_type": "code",
   "execution_count": 30,
   "metadata": {},
   "outputs": [
    {
     "data": {
      "text/plain": [
       "2263"
      ]
     },
     "execution_count": 30,
     "metadata": {},
     "output_type": "execute_result"
    }
   ],
   "source": [
    "len(summary)"
   ]
  },
  {
   "cell_type": "code",
   "execution_count": null,
   "metadata": {},
   "outputs": [],
   "source": []
  }
 ],
 "metadata": {
  "kernelspec": {
   "display_name": "Python 3",
   "language": "python",
   "name": "python3"
  },
  "language_info": {
   "codemirror_mode": {
    "name": "ipython",
    "version": 3
   },
   "file_extension": ".py",
   "mimetype": "text/x-python",
   "name": "python",
   "nbconvert_exporter": "python",
   "pygments_lexer": "ipython3",
   "version": "3.11.0"
  },
  "orig_nbformat": 4,
  "vscode": {
   "interpreter": {
    "hash": "af687b8e61e2b20cd80cabb549760ffa5735f43f38fd6f2198df49d6784db14e"
   }
  }
 },
 "nbformat": 4,
 "nbformat_minor": 2
}
